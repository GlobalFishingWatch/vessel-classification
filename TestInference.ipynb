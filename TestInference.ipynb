{
 "cells": [
  {
   "cell_type": "code",
   "execution_count": 22,
   "metadata": {
    "collapsed": true
   },
   "outputs": [],
   "source": [
    "from __future__ import print_function\n",
    "import tensorflow as tf\n",
    "from classification.models import model\n",
    "from classification import metadata\n",
    "import numpy as np\n",
    "from datetime import datetime\n",
    "import pytz\n",
    "from classification import run_inference\n",
    "import json\n",
    "import pandas\n",
    "import matplotlib.pyplot as plt\n",
    "import subprocess\n",
    "import pandas as pd\n",
    "%matplotlib inline"
   ]
  },
  {
   "cell_type": "code",
   "execution_count": 9,
   "metadata": {},
   "outputs": [
    {
     "name": "stderr",
     "output_type": "stream",
     "text": [
      "//anaconda/envs/ml2/lib/python2.7/site-packages/IPython/core/interactiveshell.py:2717: DtypeWarning: Columns (12,18,19,20,22,23,24,26,27,29,31,33,34,35,36,37,38,39,40,41,42,43) have mixed types. Specify dtype option on import or set low_memory=False.\n",
      "  interactivity=interactivity, compiler=compiler, result=result)\n"
     ]
    }
   ],
   "source": [
    "training_df = pandas.read_csv('classification/data/training_classes_vessel_id.csv')"
   ]
  },
  {
   "cell_type": "code",
   "execution_count": 43,
   "metadata": {},
   "outputs": [
    {
     "data": {
      "text/plain": [
       "0"
      ]
     },
     "execution_count": 43,
     "metadata": {},
     "output_type": "execute_result"
    }
   ],
   "source": [
    "df_subset = training_df[['mmsi', 'label', 'length', 'tonnage', 'engine_power', 'crew_size', 'split']]\n",
    "df_subset.to_csv('training_classes_vessel_id_subset.csv', index=False)\n",
    "subprocess.check_call(['gsutil', 'cp', 'training_classes_vessel_id_subset.csv', \n",
    "                      'gs://machine-learning-dev-ttl-120d/training_classes_vessel_id_v20181025.csv'])"
   ]
  },
  {
   "cell_type": "code",
   "execution_count": 45,
   "metadata": {},
   "outputs": [
    {
     "data": {
      "text/plain": [
       "<function getattr>"
      ]
     },
     "execution_count": 45,
     "metadata": {},
     "output_type": "execute_result"
    }
   ],
   "source": [
    "getattr"
   ]
  },
  {
   "cell_type": "code",
   "execution_count": 35,
   "metadata": {},
   "outputs": [],
   "source": [
    "inference_table = 'world-fishing-827.machine_learning_dev_ttl_120d.smoke_test_vessel_inference_v20181024_20170701'\n",
    "label_table = \"world-fishing-827.machine_learning_dev_ttl_120d.training_classes_vessel_id_v20181025\"\n",
    "query = \"\"\"\n",
    "SELECT a.* FROM \n",
    "`{}` a\n",
    "JOIN\n",
    "`{}` b\n",
    "ON a.vessel_id = b.mmsi \n",
    "LIMIT 100\n",
    "\"\"\".format(inference_table, label_table)\n",
    "inference_df = pd.read_gbq(query, project_id='world-fishing-827', dialect='standard')"
   ]
  },
  {
   "cell_type": "code",
   "execution_count": 41,
   "metadata": {},
   "outputs": [],
   "source": [
    "label_df = pd.read_gbq(\"select * from `{}`\".format(label_table), project_id='world-fishing-827', dialect='standard')"
   ]
  },
  {
   "cell_type": "code",
   "execution_count": 44,
   "metadata": {},
   "outputs": [
    {
     "data": {
      "text/html": [
       "<div>\n",
       "<style scoped>\n",
       "    .dataframe tbody tr th:only-of-type {\n",
       "        vertical-align: middle;\n",
       "    }\n",
       "\n",
       "    .dataframe tbody tr th {\n",
       "        vertical-align: top;\n",
       "    }\n",
       "\n",
       "    .dataframe thead th {\n",
       "        text-align: right;\n",
       "    }\n",
       "</style>\n",
       "<table border=\"1\" class=\"dataframe\">\n",
       "  <thead>\n",
       "    <tr style=\"text-align: right;\">\n",
       "      <th></th>\n",
       "      <th>vessel_id</th>\n",
       "      <th>start_time</th>\n",
       "      <th>end_time</th>\n",
       "      <th>max_label</th>\n",
       "      <th>length</th>\n",
       "      <th>tonnage</th>\n",
       "      <th>engine_power</th>\n",
       "      <th>crew_size</th>\n",
       "      <th>label_scores</th>\n",
       "    </tr>\n",
       "  </thead>\n",
       "  <tbody>\n",
       "    <tr>\n",
       "      <th>0</th>\n",
       "      <td>ece91e16f-fd8d-13cf-892e-55b112ee6a99</td>\n",
       "      <td>2017-07-01</td>\n",
       "      <td>2017-12-28</td>\n",
       "      <td>tug</td>\n",
       "      <td>33.365195</td>\n",
       "      <td>277.756079</td>\n",
       "      <td>740.284230</td>\n",
       "      <td>16.420634</td>\n",
       "      <td>[{u'score': 7.03e-08, u'label': u'bunker'}, {u...</td>\n",
       "    </tr>\n",
       "    <tr>\n",
       "      <th>1</th>\n",
       "      <td>fff2a55a1-18de-5536-0459-85903e96ccd6</td>\n",
       "      <td>2017-07-01</td>\n",
       "      <td>2017-12-28</td>\n",
       "      <td>tug</td>\n",
       "      <td>17.293510</td>\n",
       "      <td>28.936498</td>\n",
       "      <td>217.801276</td>\n",
       "      <td>10.701784</td>\n",
       "      <td>[{u'score': 2.4e-09, u'label': u'bunker'}, {u'...</td>\n",
       "    </tr>\n",
       "    <tr>\n",
       "      <th>2</th>\n",
       "      <td>6c30b7196-6263-cea5-90ae-fa3646a94d12</td>\n",
       "      <td>2017-07-01</td>\n",
       "      <td>2017-12-28</td>\n",
       "      <td>tug</td>\n",
       "      <td>30.903055</td>\n",
       "      <td>161.798137</td>\n",
       "      <td>562.024985</td>\n",
       "      <td>10.799887</td>\n",
       "      <td>[{u'score': 3.6e-09, u'label': u'bunker'}, {u'...</td>\n",
       "    </tr>\n",
       "    <tr>\n",
       "      <th>3</th>\n",
       "      <td>9cdf67528-88a4-4431-dc18-a4404db60283</td>\n",
       "      <td>2017-07-01</td>\n",
       "      <td>2017-12-28</td>\n",
       "      <td>tug</td>\n",
       "      <td>37.762387</td>\n",
       "      <td>181.600188</td>\n",
       "      <td>1358.129752</td>\n",
       "      <td>14.452969</td>\n",
       "      <td>[{u'score': 7.896e-07, u'label': u'bunker'}, {...</td>\n",
       "    </tr>\n",
       "    <tr>\n",
       "      <th>4</th>\n",
       "      <td>048028a49-9520-bb4e-86f9-802248bbd570</td>\n",
       "      <td>2017-07-01</td>\n",
       "      <td>2017-12-28</td>\n",
       "      <td>tug</td>\n",
       "      <td>31.498599</td>\n",
       "      <td>410.723605</td>\n",
       "      <td>1187.674468</td>\n",
       "      <td>7.707851</td>\n",
       "      <td>[{u'score': 1.74e-08, u'label': u'bunker'}, {u...</td>\n",
       "    </tr>\n",
       "  </tbody>\n",
       "</table>\n",
       "</div>"
      ],
      "text/plain": [
       "                               vessel_id start_time   end_time max_label  \\\n",
       "0  ece91e16f-fd8d-13cf-892e-55b112ee6a99 2017-07-01 2017-12-28       tug   \n",
       "1  fff2a55a1-18de-5536-0459-85903e96ccd6 2017-07-01 2017-12-28       tug   \n",
       "2  6c30b7196-6263-cea5-90ae-fa3646a94d12 2017-07-01 2017-12-28       tug   \n",
       "3  9cdf67528-88a4-4431-dc18-a4404db60283 2017-07-01 2017-12-28       tug   \n",
       "4  048028a49-9520-bb4e-86f9-802248bbd570 2017-07-01 2017-12-28       tug   \n",
       "\n",
       "      length     tonnage  engine_power  crew_size  \\\n",
       "0  33.365195  277.756079    740.284230  16.420634   \n",
       "1  17.293510   28.936498    217.801276  10.701784   \n",
       "2  30.903055  161.798137    562.024985  10.799887   \n",
       "3  37.762387  181.600188   1358.129752  14.452969   \n",
       "4  31.498599  410.723605   1187.674468   7.707851   \n",
       "\n",
       "                                        label_scores  \n",
       "0  [{u'score': 7.03e-08, u'label': u'bunker'}, {u...  \n",
       "1  [{u'score': 2.4e-09, u'label': u'bunker'}, {u'...  \n",
       "2  [{u'score': 3.6e-09, u'label': u'bunker'}, {u'...  \n",
       "3  [{u'score': 7.896e-07, u'label': u'bunker'}, {...  \n",
       "4  [{u'score': 1.74e-08, u'label': u'bunker'}, {u...  "
      ]
     },
     "execution_count": 44,
     "metadata": {},
     "output_type": "execute_result"
    }
   ],
   "source": [
    "inference_df.head()"
   ]
  },
  {
   "cell_type": "code",
   "execution_count": 37,
   "metadata": {},
   "outputs": [
    {
     "data": {
      "text/plain": [
       "[{u'label': u'bunker', u'score': 7.03e-08},\n",
       " {u'label': u'cargo', u'score': 0.0394062512},\n",
       " {u'label': u'container_reefer', u'score': 1.692e-07},\n",
       " {u'label': u'dive_vessel', u'score': 0.0},\n",
       " {u'label': u'dredge_fishing', u'score': 0.000176081},\n",
       " {u'label': u'dredge_non_fishing', u'score': 0.0348936953},\n",
       " {u'label': u'drifting_longlines', u'score': 6.2658e-05},\n",
       " {u'label': u'driftnets', u'score': 3e-09},\n",
       " {u'label': u'fish_factory', u'score': 3.36222e-05},\n",
       " {u'label': u'gear', u'score': 8.86e-08},\n",
       " {u'label': u'helicopter', u'score': 0.0},\n",
       " {u'label': u'other_fishing', u'score': 6.84e-07},\n",
       " {u'label': u'other_not_fishing', u'score': 0.0280245729},\n",
       " {u'label': u'other_purse_seines', u'score': 0.0003788223},\n",
       " {u'label': u'other_seines', u'score': 3.9729e-06},\n",
       " {u'label': u'passenger', u'score': 0.0075969142},\n",
       " {u'label': u'patrol_vessel', u'score': 0.0003363299},\n",
       " {u'label': u'pole_and_line', u'score': 1.6973e-06},\n",
       " {u'label': u'pots_and_traps', u'score': 1.8917e-05},\n",
       " {u'label': u'research', u'score': 0.0024356036},\n",
       " {u'label': u'seismic_vessel', u'score': 0.0013836275},\n",
       " {u'label': u'set_gillnets', u'score': 0.0001053892},\n",
       " {u'label': u'set_longlines', u'score': 7.35085e-05},\n",
       " {u'label': u'specialized_reefer', u'score': 7.1113e-06},\n",
       " {u'label': u'squid_jigger', u'score': 7.2545e-06},\n",
       " {u'label': u'submarine', u'score': 3.53e-07},\n",
       " {u'label': u'supply_vessel', u'score': 0.0053090779},\n",
       " {u'label': u'tanker', u'score': 0.0008134268},\n",
       " {u'label': u'trawlers', u'score': 0.0018569145},\n",
       " {u'label': u'trollers', u'score': 0.0001016306},\n",
       " {u'label': u'tug', u'score': 0.8768780231},\n",
       " {u'label': u'tuna_purse_seines', u'score': 6.61372e-05},\n",
       " {u'label': u'well_boat', u'score': 2.72422e-05}]"
      ]
     },
     "execution_count": 37,
     "metadata": {},
     "output_type": "execute_result"
    }
   ],
   "source": [
    "'''\n",
    "python -m classification.metrics.compute_vessel_metrics \\\n",
    "     --inference-table  machine_learning_dev_ttl_120d.smoke_test_vessel_inference_v20181024_ \\\n",
    "     --label-table world-fishing-827.machine_learning_dev_ttl_120d.training_classes_vessel_id_v20181025 \\\n",
    "     --dest-path test_new_vessel_inference.html\n",
    "'''"
   ]
  },
  {
   "cell_type": "code",
   "execution_count": 2,
   "metadata": {
    "collapsed": true
   },
   "outputs": [],
   "source": [
    "class MyModel(model.ModelBase): \n",
    "    def build_inference_net(self):\n",
    "        pass\n",
    "    def build_training_net(self):\n",
    "        pass\n",
    "    @property\n",
    "    def max_window_duration_seconds(self):\n",
    "        # A fixed-length rather than fixed-duration window.\n",
    "        return 0\n",
    "\n",
    "    @property\n",
    "    def window_max_points(self):\n",
    "        return 1024\n",
    "    \n",
    "    def make_input_fn(self, base_feature_path, split, num_parallel_reads):\n",
    "        def training_input_fn():\n",
    "            return (fishing_feature_generation.input_fn(\n",
    "                        self.vessel_metadata,\n",
    "                        self.build_training_file_list(base_feature_path, split),\n",
    "                        self.num_feature_dimensions + 1,\n",
    "                        self.max_window_duration_seconds,\n",
    "                        self.window_max_points,\n",
    "                        self.min_viable_timeslice_length,\n",
    "                        select_ranges=self.use_ranges_for_training,\n",
    "                        num_parallel_reads=num_parallel_reads)\n",
    "                .prefetch(self.batch_size)\n",
    "                .batch(self.batch_size)\n",
    "                )\n",
    "        return training_input_fn\n",
    "    \n",
    "    def make_training_input_fn(self, base_feature_path, num_parallel_reads):\n",
    "        return self.make_input_fn(base_feature_path, utility.TRAINING_SPLIT, num_parallel_reads)\n",
    "    \n",
    "root_feature_path = \"gs://machine-learning-dev-ttl-120d/features/ppb_features_through2017/features\"\n",
    "fishing_range_file = \"classification/data/combined_fishing_ranges_vessel_id.csv\"\n",
    "metadata_file = \"classification/data/training_classes_vessel_id.csv\"\n",
    "\n",
    "fishing_ranges = metadata.read_fishing_ranges(fishing_range_file)\n",
    "all_available_mmsis = metadata.find_available_mmsis(root_feature_path)\n",
    "\n",
    "vessel_metadata = MyModel.read_metadata(\n",
    "        all_available_mmsis, metadata_file,\n",
    "        fishing_ranges, 1)\n",
    "\n",
    "# mdl = MyModel(14, vessel_metadata)\n",
    "# files = mdl.build_training_file_list(root_feature_path , utility.TRAINING_SPLIT)"
   ]
  },
  {
   "cell_type": "code",
   "execution_count": 3,
   "metadata": {},
   "outputs": [
    {
     "data": {
      "text/plain": [
       "['000020b39-9a62-1a09-60fe-d65a9e39c2cf',\n",
       " '0000c5d13-3506-2b61-4e28-d6899b26042a',\n",
       " '0000e640f-f180-f001-2eec-7e35ff334468',\n",
       " '0000f9035-5cdc-333b-2a65-5cbb36b11e7e',\n",
       " '00012e8f4-4969-4ade-4c87-441dd4df3cb9',\n",
       " '0001caf0c-ccad-da52-51da-89a663aa557d',\n",
       " '0001d40eb-b6cd-6b77-df8d-abfb50da79ef',\n",
       " '00023cd36-6923-af32-1bef-62ccd5ae74f1',\n",
       " '000247f64-4b77-df37-ad93-f61ef44e72b3',\n",
       " '000257665-5945-b990-1011-bc453452ae78']"
      ]
     },
     "execution_count": 3,
     "metadata": {},
     "output_type": "execute_result"
    }
   ],
   "source": [
    "sorted(vessel_metadata.metadata_by_mmsi)[:10]"
   ]
  },
  {
   "cell_type": "code",
   "execution_count": 4,
   "metadata": {},
   "outputs": [
    {
     "name": "stdout",
     "output_type": "stream",
     "text": [
      "{'timestamps': array([[1448952064, 1448997760, 1449019776, ..., 1453312256, 1453313280,\n",
      "        1453314176]], dtype=int32), 'mmsi': array(['-4484213255844134909'], dtype=object), 'features': array([[[10.730335  ,  6.601677  ,  0.41504836, ...,  0.        ,\n",
      "          0.        ,  0.        ],\n",
      "        [ 9.997342  ,  7.2467427 ,  0.7074879 , ...,  0.        ,\n",
      "          0.        ,  0.        ],\n",
      "        [ 8.23483   ,  6.0153675 ,  0.34469208, ...,  0.        ,\n",
      "          0.        ,  0.        ],\n",
      "        ...,\n",
      "        [ 6.929517  ,  4.9091506 ,  0.41504836, ...,  0.        ,\n",
      "          0.        ,  0.        ],\n",
      "        [ 6.8669333 ,  5.94337   ,  0.38048884, ...,  0.        ,\n",
      "          0.        ,  0.        ],\n",
      "        [ 6.8679743 ,  6.0894523 ,  0.14352287, ...,  0.        ,\n",
      "          0.        ,  0.        ]]], dtype=float32), 'time_ranges': array([[1438416000, 1453968000]], dtype=int32)}\n",
      "({'timestamps': array([[1430546816, 1430547584, 1430548352, ..., 1430617856, 1430618496,\n",
      "        1430619264],\n",
      "       [1383642368, 1383643136, 1383643776, ..., 1401693824, 1401694976,\n",
      "        1401695872],\n",
      "       [1345159808, 1345165312, 1345211392, ..., 1373891072, 1373891840,\n",
      "        1373892608],\n",
      "       ...,\n",
      "       [1356451328, 1356452096, 1356452864, ..., 1377554944, 1377555712,\n",
      "        1377556480],\n",
      "       [1326781056, 1326783744, 1326785536, ..., 1335010944, 1335011584,\n",
      "        1335012352],\n",
      "       [1501560576, 1501575552, 1501575936, ..., 1505043072, 1505043456,\n",
      "        1505045888]], dtype=int32), 'mmsi': array(['6976a3f19-9c95-ee1e-042b-8a0014cf1681',\n",
      "       '8088aeda4-4f65-43dc-1bf2-a75bf1b396e0',\n",
      "       '4f05108e9-918c-cfe9-6dc1-5741fdb00e59',\n",
      "       'dde7f1f6d-d308-8296-63a0-70941cecf2b3',\n",
      "       '6976a3f19-9c95-ee1e-042b-8a0014cf1681',\n",
      "       '3aefdf769-9f2c-185b-9168-7b05f9064c3b',\n",
      "       '589b9704a-acf1-80df-8977-d4a33f3b4c10',\n",
      "       '25892b306-606d-b388-76e9-2657b5801fc2',\n",
      "       'e2ae4e94e-e5e7-d9e9-27ed-a1652c65bfe9',\n",
      "       'ca5fcec6e-eae3-d94d-a656-35e5a60db267',\n",
      "       '1c78c920a-a756-00b4-34e7-de3d3f1a449b',\n",
      "       'c2a2a44df-fd60-ea60-0663-d02d2b49efdf',\n",
      "       '553bfbc0c-cc67-6882-93b5-21dd7f5af5a3',\n",
      "       '7017a9cfd-d07c-2288-8f1d-b9e54366caca',\n",
      "       '5168b85e1-1fb9-9b13-8135-78c3bfe0fe1a',\n",
      "       'd34323e45-535d-d68d-aa5d-2724de9d95fd',\n",
      "       '01389323f-f7dc-d433-d572-2520fe2de52e',\n",
      "       '6556a9f9f-f42f-b7cd-e9ea-bba7f882228a',\n",
      "       '5168b85e1-1fb9-9b13-8135-78c3bfe0fe1a',\n",
      "       '32f40c879-901f-31e9-9eb5-792325b65e10',\n",
      "       '5a3ada1b4-457b-2bba-ea11-9e0615911495',\n",
      "       '698cc4bcd-d6c9-3a7c-7a29-a3014af57420',\n",
      "       '8e3389d74-4534-b077-c462-90870e1c925d',\n",
      "       'e45f1789e-e939-d02c-6b49-65dbbefaac32',\n",
      "       'b2ffcd50a-a1eb-ac21-7032-9a8e1a040d3a',\n",
      "       'd8a470958-89a2-5cf1-1474-e77493236f92',\n",
      "       '882e4cbb5-54c8-7f47-dbf3-b7dcbad8b133',\n",
      "       '27c8fca63-36ba-153d-2293-f65750f63e8c',\n",
      "       '296505cbd-d2c1-86c8-bf39-9c98666e4ecd',\n",
      "       '90cf7ab54-4f77-236d-672a-18b1bdf2ec6a',\n",
      "       'fde025893-300b-2c0f-a56f-7863445e7a94',\n",
      "       '32f40c879-901f-31e9-9eb5-792325b65e10',\n",
      "       '25892b306-606d-b388-76e9-2657b5801fc2',\n",
      "       'f9a3253c5-5264-d558-7566-2cbef8ebb614',\n",
      "       '25ffb761c-c86a-ed68-8eea-afd6d27accb8',\n",
      "       '1dd7cc8b1-1c9c-fe44-49e1-639f45ba2824',\n",
      "       '9c71c32bb-b14f-8030-8df0-a2ed34c2bda3',\n",
      "       '6976a3f19-9c95-ee1e-042b-8a0014cf1681',\n",
      "       'cd9a81e3b-bec3-ed04-2988-341787379326',\n",
      "       'b982030dc-c561-d749-53a2-1e028a748f50',\n",
      "       'ca5fcec6e-eae3-d94d-a656-35e5a60db267',\n",
      "       'fc825241b-b4ed-6c24-ef60-527417e70db5',\n",
      "       '9e4bd6c7a-a396-cc43-8b2c-4bb22a7e89f7',\n",
      "       '85a279a44-4f41-da55-9bc4-a686f4ac2f13',\n",
      "       '38df41eab-bd46-f02c-d274-f65bffb842ac',\n",
      "       '9f3e2bcab-b400-751e-0b9a-cbf69ac167df',\n",
      "       'fde025893-300b-2c0f-a56f-7863445e7a94',\n",
      "       '296505cbd-d2c1-86c8-bf39-9c98666e4ecd',\n",
      "       '93ac556dd-d264-0828-8ab5-331d28e8c084',\n",
      "       '5f9cd1d31-11be-4231-bb0d-806020ca8eb5',\n",
      "       'a10ea1130-0394-4f65-b8b7-8df370a1be4e',\n",
      "       '5f9cd1d31-11be-4231-bb0d-806020ca8eb5',\n",
      "       'da9800177-725e-4faf-0b8b-d65d57d6227a',\n",
      "       'd34323e45-535d-d68d-aa5d-2724de9d95fd',\n",
      "       '6556a9f9f-f42f-b7cd-e9ea-bba7f882228a',\n",
      "       '112fef584-4a99-cf4c-e60b-15e8e76bd197',\n",
      "       'f9a3253c5-5264-d558-7566-2cbef8ebb614',\n",
      "       '4f64bbd38-8046-3be1-82a7-937d861401d6',\n",
      "       'f72592e60-0753-12d6-6338-cf76b6f76a3b',\n",
      "       'b982030dc-c561-d749-53a2-1e028a748f50',\n",
      "       '5171b8b01-16a5-df31-d3a0-f82e97eef76a',\n",
      "       '95a89089b-ba3b-7183-7585-64d25d509f93',\n",
      "       'f270802b7-764c-b576-66ce-55cd71d8fe13',\n",
      "       '7017a9cfd-d07c-2288-8f1d-b9e54366caca'], dtype=object), 'features': array([[[ 6.658011  ,  7.143533  ,  0.        , ...,  0.        ,\n",
      "          0.        ,  0.        ],\n",
      "        [ 6.5834093 ,  7.422936  ,  1.198457  , ...,  0.        ,\n",
      "          0.        ,  0.        ],\n",
      "        [ 6.658011  ,  7.590645  ,  1.1828166 , ...,  0.        ,\n",
      "          0.        ,  0.        ],\n",
      "        ...,\n",
      "        [ 6.590301  ,  1.5491538 ,  0.        , ...,  0.        ,\n",
      "          0.        ,  0.        ],\n",
      "        [ 6.582025  ,  0.9735909 ,  0.        , ...,  0.        ,\n",
      "          0.        ,  0.        ],\n",
      "        [ 6.7345915 ,  2.274302  ,  0.        , ...,  0.        ,\n",
      "          0.        ,  0.        ]],\n",
      "\n",
      "       [[ 6.58755   ,  8.334427  ,  1.9263867 , ...,  0.        ,\n",
      "          0.        ,  0.        ],\n",
      "        [ 6.618739  ,  8.367744  ,  1.911285  , ...,  0.        ,\n",
      "          0.        ,  0.        ],\n",
      "        [ 6.605298  ,  8.37311   ,  1.8959519 , ...,  0.        ,\n",
      "          0.        ,  0.        ],\n",
      "        ...,\n",
      "        [ 6.9716687 ,  4.03011   ,  0.09793292, ...,  0.        ,\n",
      "          0.        ,  0.        ],\n",
      "        [ 6.877296  ,  3.3260133 ,  0.05016484, ...,  0.        ,\n",
      "          0.        ,  0.        ],\n",
      "        [ 6.610696  ,  2.8445187 ,  0.        , ...,  0.        ,\n",
      "          0.        ,  0.        ]],\n",
      "\n",
      "       [[ 8.599694  ,  0.8017292 ,  0.        , ...,  0.        ,\n",
      "          0.        ,  0.        ],\n",
      "        [10.7401285 ,  0.9678738 ,  0.        , ...,  0.        ,\n",
      "          0.        ,  0.        ],\n",
      "        [ 8.628914  ,  0.54647624,  0.        , ...,  0.        ,\n",
      "          0.        ,  0.        ],\n",
      "        ...,\n",
      "        [ 6.6227365 ,  6.247059  ,  0.65544486, ...,  0.        ,\n",
      "          0.        ,  0.        ],\n",
      "        [ 6.7475867 ,  7.603987  ,  0.6283712 , ...,  0.        ,\n",
      "          0.        ,  0.        ],\n",
      "        [ 6.6025877 ,  7.7844725 ,  1.7003133 , ...,  0.        ,\n",
      "          0.        ,  0.        ]],\n",
      "\n",
      "       ...,\n",
      "\n",
      "       [[ 6.652863  ,  0.85926074,  0.        , ...,  0.        ,\n",
      "          0.        ,  0.        ],\n",
      "        [ 6.6240654 ,  0.21749105,  0.05016484, ...,  0.        ,\n",
      "          0.        ,  0.        ],\n",
      "        [ 6.156979  ,  0.9568829 ,  0.        , ...,  0.        ,\n",
      "          0.        ,  0.        ],\n",
      "        ...,\n",
      "        [ 6.6346335 ,  1.1919525 ,  0.        , ...,  0.        ,\n",
      "          0.        ,  0.        ],\n",
      "        [ 6.638568  ,  1.1131992 ,  0.        , ...,  0.        ,\n",
      "          0.        ,  0.        ],\n",
      "        [ 5.723585  ,  0.92131656,  0.        , ...,  0.        ,\n",
      "          0.        ,  0.        ]],\n",
      "\n",
      "       [[ 7.912423  ,  1.7545831 ,  0.        , ...,  0.        ,\n",
      "          0.        ,  0.        ],\n",
      "        [ 7.495542  ,  5.185394  ,  0.        , ...,  0.        ,\n",
      "          0.        ,  0.        ],\n",
      "        [ 7.862882  ,  9.263163  ,  1.2874857 , ...,  0.        ,\n",
      "          0.        ,  0.        ],\n",
      "        ...,\n",
      "        [ 6.481577  ,  4.7156725 ,  0.22890453, ...,  0.        ,\n",
      "          0.        ,  0.        ],\n",
      "        [ 6.555357  ,  7.4422235 ,  0.09793292, ...,  0.        ,\n",
      "          0.        ,  0.        ],\n",
      "        [ 7.560601  ,  8.281046  ,  2.3771763 , ...,  0.        ,\n",
      "          0.        ,  0.        ]],\n",
      "\n",
      "       [[ 9.609318  , 11.38847   ,  1.9631722 , ...,  0.        ,\n",
      "          0.        ,  0.        ],\n",
      "        [ 6.154858  ,  7.9125214 ,  1.94862   , ...,  0.        ,\n",
      "          0.        ,  0.        ],\n",
      "        [ 5.7776523 ,  7.548325  ,  1.9559226 , ...,  0.        ,\n",
      "          0.        ,  0.        ],\n",
      "        ...,\n",
      "        [ 5.966147  ,  7.801778  ,  1.9559226 , ...,  0.        ,\n",
      "          0.        ,  0.        ],\n",
      "        [ 7.792349  ,  9.628121  ,  2.0056    , ...,  0.        ,\n",
      "          0.        ,  0.        ],\n",
      "        [ 6.660575  ,  8.508353  ,  2.0193517 , ...,  0.        ,\n",
      "          0.        ,  0.        ]]], dtype=float32), 'time_ranges': array([[1430546816, 1506304128],\n",
      "       [1383642368, 1401695872],\n",
      "       [1345159808, 1373892608],\n",
      "       [1327303168, 1344825472],\n",
      "       [1440439808, 1506304128],\n",
      "       [1502362496, 1514761728],\n",
      "       [1456170112, 1498399744],\n",
      "       [1373301504, 1402417152],\n",
      "       [1480096640, 1513963392],\n",
      "       [1366440704, 1471478656],\n",
      "       [1401603200, 1438076288],\n",
      "       [1340929024, 1362329344],\n",
      "       [1438404864, 1485739136],\n",
      "       [1483267968, 1514764544],\n",
      "       [1478852352, 1513597568],\n",
      "       [1478832384, 1501476480],\n",
      "       [1450775296, 1495601024],\n",
      "       [1365858304, 1473832064],\n",
      "       [1414405760, 1501585920],\n",
      "       [1364763648, 1443470080],\n",
      "       [1488364032, 1512057344],\n",
      "       [1363001216, 1379032960],\n",
      "       [1414627456, 1512040576],\n",
      "       [1431988480, 1470572544],\n",
      "       [1423257472, 1444004224],\n",
      "       [1413549440, 1468743808],\n",
      "       [1469102720, 1514764544],\n",
      "       [1449870080, 1488260608],\n",
      "       [1451354752, 1514764672],\n",
      "       [1392909440, 1437947264],\n",
      "       [1421242368, 1463211392],\n",
      "       [1380442880, 1449684608],\n",
      "       [1373294080, 1402417152],\n",
      "       [1359768064, 1362058240],\n",
      "       [1390025856, 1472377088],\n",
      "       [1464793856, 1506237056],\n",
      "       [1377821184, 1419522048],\n",
      "       [1440439808, 1506304128],\n",
      "       [1361923712, 1380055808],\n",
      "       [1489144064, 1494657664],\n",
      "       [1348879104, 1471478656],\n",
      "       [1331485568, 1360615424],\n",
      "       [1461428736, 1495368064],\n",
      "       [1449437056, 1514601856],\n",
      "       [1452080512, 1477751168],\n",
      "       [1492671872, 1510567168],\n",
      "       [1486607616, 1513854720],\n",
      "       [1352478080, 1376784896],\n",
      "       [1364953472, 1422458240],\n",
      "       [1343607040, 1361009792],\n",
      "       [1398935680, 1511691392],\n",
      "       [1330265984, 1360071680],\n",
      "       [1445983360, 1462187264],\n",
      "       [1478832384, 1501476480],\n",
      "       [1407609984, 1475181312],\n",
      "       [1440881664, 1477700736],\n",
      "       [1359768064, 1362058240],\n",
      "       [1408092928, 1430418048],\n",
      "       [1466124544, 1514764800],\n",
      "       [1367914880, 1380723840],\n",
      "       [1447774208, 1492224768],\n",
      "       [1356451328, 1377556480],\n",
      "       [1326781056, 1343384320],\n",
      "       [1501560576, 1514764544]], dtype=int32)}, {'Vessel-class': array([[0., 0., 0., ..., 0., 0., 0.],\n",
      "       [1., 1., 1., ..., 1., 1., 1.],\n",
      "       [0., 0., 0., ..., 0., 0., 0.],\n",
      "       ...,\n",
      "       [0., 0., 0., ..., 0., 0., 0.],\n",
      "       [1., 1., 1., ..., 1., 1., 1.],\n",
      "       [0., 0., 0., ..., 0., 0., 0.]], dtype=float32), 'Vessel-length': array([       nan,        nan,  25.95    ,  89.32    ,        nan,\n",
      "              nan,  24.      ,        nan,  21.02    ,  57.3     ,\n",
      "         8.      ,        nan,        nan, 107.9     ,        nan,\n",
      "        19.7     ,        nan,        nan,        nan,        nan,\n",
      "        15.97    ,  39.61    ,        nan,        nan,        nan,\n",
      "              nan,        nan,  23.      ,        nan,        nan,\n",
      "        20.3     ,        nan,        nan,  38.05    ,        nan,\n",
      "              nan,        nan,        nan,        nan,  40.16    ,\n",
      "        57.3     ,  21.5     ,  26.5     ,  14.7     ,        nan,\n",
      "              nan,  20.3     ,        nan,        nan,  28.92    ,\n",
      "        26.166666,  28.92    ,        nan,  19.7     ,        nan,\n",
      "              nan,  38.05    ,        nan,        nan,  40.16    ,\n",
      "              nan,  43.21    ,        nan, 107.9     ], dtype=float32), 'Vessel-Crew-Size': array([nan, nan, nan, nan, nan, nan, nan,  6.,  5., nan, nan,  5., nan,\n",
      "       nan, 16., nan, nan, nan, 16., nan, nan, nan, 14., nan, nan,  8.,\n",
      "       nan, nan, nan, nan, nan, nan,  6., nan, nan,  6., nan, nan, nan,\n",
      "       nan, nan, nan, nan, nan, nan, 12., nan, nan, 25., nan, nan, nan,\n",
      "       nan, nan, nan,  5., nan, nan, nan, nan, 22., nan, 15., nan],\n",
      "      dtype=float32), 'Vessel-engine-Power': array([     nan,      nan,      nan,      nan,      nan,      nan,\n",
      "         326.55,      nan,   309.  ,   883.  ,    65.  ,      nan,\n",
      "            nan,  3675.  ,      nan,   305.07,      nan,      nan,\n",
      "            nan,      nan,   132.39,   900.32,      nan,      nan,\n",
      "            nan,      nan,      nan,   268.64,      nan,      nan,\n",
      "         341.82,      nan,      nan,   745.  ,      nan,      nan,\n",
      "            nan,      nan, 11776.  ,   706.  ,   883.  ,   609.28,\n",
      "         367.55,   129.  ,      nan,      nan,   341.82,      nan,\n",
      "            nan,   715.36,      nan,   715.36,      nan,   305.07,\n",
      "            nan,      nan,   745.  ,      nan,      nan,   706.  ,\n",
      "            nan,      nan,      nan,  3675.  ], dtype=float32), 'Vessel-tonnage': array([1.0000e+01, 9.5500e+02,        nan,        nan, 1.0000e+01,\n",
      "       2.4040e+03, 1.8147e+02, 1.0980e+01, 1.1700e+02, 7.6200e+02,\n",
      "              nan,        nan, 4.2300e+02, 4.5060e+03, 3.8000e+01,\n",
      "       4.0000e+01,        nan, 9.9000e+01, 3.8000e+01,        nan,\n",
      "       1.9740e+01, 3.2083e+02, 1.9300e+02,        nan, 2.3600e+02,\n",
      "              nan, 2.5310e+03, 1.1000e+02, 1.3200e+02, 1.0500e+02,\n",
      "       3.7000e+01,        nan, 1.0980e+01, 3.7400e+02, 4.9000e+01,\n",
      "              nan,        nan, 1.0000e+01,        nan, 2.3500e+02,\n",
      "       7.6200e+02, 1.1586e+02, 8.6000e+01, 1.6000e+01,        nan,\n",
      "       2.8000e+01, 3.7000e+01, 1.3200e+02, 5.1130e+04, 2.2500e+02,\n",
      "       9.9450e+01, 2.2500e+02, 5.0888e+04, 4.0000e+01, 9.9000e+01,\n",
      "       1.8000e+01, 3.7400e+02,        nan,        nan, 2.3500e+02,\n",
      "       3.9720e+03,        nan, 5.0500e+01, 4.5060e+03], dtype=float32)})\n"
     ]
    }
   ],
   "source": [
    "import imp\n",
    "import pytz\n",
    "import classification.models.objectives\n",
    "imp.reload(classification.models.objectives)\n",
    "from classification.feature_generation import vessel_feature_generation\n",
    "imp.reload(vessel_feature_generation)\n",
    "from classification.feature_generation import fishing_feature_generation\n",
    "imp.reload(fishing_feature_generation)\n",
    "import classification.models.vessel_characterization\n",
    "imp.reload(classification.models.vessel_characterization)\n",
    "import classification.models.vessel_characterization\n",
    "imp.reload(classification.models.vessel_characterization)\n",
    "from classification.models.vessel_characterization import Model\n",
    "import classification.models.fishing_detection\n",
    "import classification.feature_generation.feature_utilities\n",
    "imp.reload(classification.feature_generation.feature_utilities)\n",
    "from classification.feature_generation.feature_utilities import EPOCH_DT\n",
    "# imp.reload(classification.models.prod.fishing_detection)\n",
    "# from classification.models.prod.fishing_detection import Model\n",
    "\n",
    "mdl = Model(14, vessel_metadata, 'minimal')\n",
    "    \n",
    "time_ranges = [(1328083200, 1343635200), (1343808000, 1359360000), (1359705600, 1375257600), (1375344000, 1390896000), (1391241600, 1406793600), (1406880000, 1422432000), (1422777600, 1438329600), (1438416000, 1453968000), (1454313600, 1469865600), (1470038400, 1485590400), (1485936000, 1501488000), (1501574400, 1517126400)]\n",
    "# time_ranges = [((datetime(2015, 6, 1, tzinfo=pytz.utc) - EPOCH_DT).total_seconds(), (datetime(2015, 7, 1, tzinfo=pytz.utc) - EPOCH_DT).total_seconds())]\n",
    "template = \"gs://machine-learning-dev-ttl-120d/features/ppb_features_through2017/features/{}.tfrecord\"\n",
    "vessel_ids = vessel_metadata.metadata_by_mmsi.keys()[:10]\n",
    "paths = [template.format(x) for x in vessel_ids]\n",
    "\n",
    "# paths = \"\"\"\n",
    "# gs://machine-learning-dev-ttl-120d/features/ppb_features_through2017/features/000007c49-9673-3128-434d-6937d3400dd3.tfrecord\n",
    "# gs://machine-learning-dev-ttl-120d/features/ppb_features_through2017/features/000008a58-83b9-f7c6-e3af-148f962497f4.tfrecord\n",
    "# gs://machine-learning-dev-ttl-120d/features/ppb_features_through2017/features/000020b39-9a62-1a09-60fe-d65a9e39c2cf.tfrecord\n",
    "# gs://machine-learning-dev-ttl-120d/features/ppb_features_through2017/features/000027eb4-4bec-76cc-062b-6ce5cdcac685.tfrecord\n",
    "# gs://machine-learning-dev-ttl-120d/features/ppb_features_through2017/features/000073b65-58c6-abce-7fb1-a842a589aa96.tfrecord\n",
    "# gs://machine-learning-dev-ttl-120d/features/ppb_features_through2017/features/0000747d7-71d7-a018-9e87-d0fbab2adac6.tfrecord\n",
    "# gs://machine-learning-dev-ttl-120d/features/ppb_features_through2017/features/00009b2f0-0822-cdfc-ba1e-a4b05787f7b6.tfrecord\n",
    "# gs://machine-learning-dev-ttl-120d/features/ppb_features_through2017/features/00009f31c-ca68-b94d-11cc-f47ebd7390b8.tfrecord\n",
    "# gs://machine-learning-dev-ttl-120d/features/ppb_features_through2017/features/0000a8ba8-8c4c-255c-59e6-de6c90f79862.tfrecord\n",
    "# gs://machine-learning-dev-ttl-120d/features/ppb_features_through2017/features/0000b163b-b6ee-1b90-63d2-a2a1c6864e5a.tfrecord\n",
    "# \"\"\".strip().split()\n",
    "\n",
    "range_info = (datetime(2017,1,1), datetime(2017, 7, 1))\n",
    "input_fn_p = mdl.make_prediction_input_fn(paths, time_ranges, 32)\n",
    "iter_p = input_fn_p().make_one_shot_iterator()\n",
    "el_p = iter_p.get_next()\n",
    "\n",
    "input_fn_t = mdl.make_training_input_fn(root_feature_path, 32)\n",
    "iter_t = input_fn_t().make_one_shot_iterator()\n",
    "el_t = iter_t.get_next()\n",
    "\n",
    "with tf.Session() as sess:\n",
    "#     while True:\n",
    "        x_p = sess.run(el_p)\n",
    "        x_t = sess.run(el_t)\n",
    "        print(x_p)\n",
    "        print(x_t)\n"
   ]
  },
  {
   "cell_type": "code",
   "execution_count": 5,
   "metadata": {},
   "outputs": [
    {
     "name": "stdout",
     "output_type": "stream",
     "text": [
      "[ 6.6799445e+00  4.3288317e+00  4.1018948e-01  3.8333207e-01\n",
      "  4.1953898e-03  4.1828036e-02 -2.6415611e-02  9.2504042e-01\n",
      "  2.8000000e-01  1.3129959e-02  0.0000000e+00  0.0000000e+00\n",
      "  0.0000000e+00  0.0000000e+00]\n",
      "[0.77054167 2.6774557  0.5551633  0.49860933 0.4567945  0.7275532\n",
      " 0.68426394 0.06650381 0.24820158 0.5663661  0.         0.\n",
      " 0.         0.        ]\n"
     ]
    }
   ],
   "source": [
    "x_p['features'].shape\n",
    "print(x_p['features'].mean(axis=(0, 1)))\n",
    "print(x_p['features'].std(axis=(0, 1)))"
   ]
  },
  {
   "cell_type": "code",
   "execution_count": 6,
   "metadata": {},
   "outputs": [
    {
     "name": "stdout",
     "output_type": "stream",
     "text": [
      "[ 6.8813524e+00  4.6720781e+00  7.0673662e-01  6.5744787e-01\n",
      " -1.0784438e-03 -9.3182698e-02 -4.9768318e-04 -4.9298774e-02\n",
      "  7.6009883e-03 -5.9309457e-03  1.7335727e+00  0.0000000e+00\n",
      "  0.0000000e+00  0.0000000e+00]\n",
      "[0.91939354 3.3832622  0.76762664 0.7578671  0.36444297 0.7101269\n",
      " 0.697734   0.6980936  0.71488523 0.49576244 1.8275083  0.\n",
      " 0.         0.        ]\n"
     ]
    }
   ],
   "source": [
    "print(x_t[0]['features'].mean(axis=(0, 1)))\n",
    "print(x_t[0]['features'].std(axis=(0, 1)))"
   ]
  },
  {
   "cell_type": "code",
   "execution_count": 7,
   "metadata": {},
   "outputs": [
    {
     "name": "stdout",
     "output_type": "stream",
     "text": [
      "INFO:tensorflow:Using config: {'_save_checkpoints_secs': 300, '_global_id_in_cluster': 0, '_session_config': allow_soft_placement: true\n",
      ", '_keep_checkpoint_max': 10, '_tf_random_seed': None, '_task_type': 'worker', '_train_distribute': None, '_is_chief': True, '_cluster_spec': <tensorflow.python.training.server_lib.ClusterSpec object at 0x14a360450>, '_model_dir': 'gs://world-fishing-827-dev-ttl30d/data-production/classification/timothyhochberg/vessel_char_v20181023A/models/vessel_characterization', '_num_worker_replicas': 1, '_task_id': 0, '_log_step_count_steps': 100, '_master': '', '_save_checkpoints_steps': None, '_keep_checkpoint_every_n_hours': 10000, '_evaluation_master': '', '_service': None, '_device_fn': None, '_save_summary_steps': 20, '_num_ps_replicas': 0}\n"
     ]
    },
    {
     "name": "stderr",
     "output_type": "stream",
     "text": [
      "INFO:tensorflow:Using config: {'_save_checkpoints_secs': 300, '_global_id_in_cluster': 0, '_session_config': allow_soft_placement: true\n",
      ", '_keep_checkpoint_max': 10, '_tf_random_seed': None, '_task_type': 'worker', '_train_distribute': None, '_is_chief': True, '_cluster_spec': <tensorflow.python.training.server_lib.ClusterSpec object at 0x14a360450>, '_model_dir': 'gs://world-fishing-827-dev-ttl30d/data-production/classification/timothyhochberg/vessel_char_v20181023A/models/vessel_characterization', '_num_worker_replicas': 1, '_task_id': 0, '_log_step_count_steps': 100, '_master': '', '_save_checkpoints_steps': None, '_keep_checkpoint_every_n_hours': 10000, '_evaluation_master': '', '_service': None, '_device_fn': None, '_save_summary_steps': 20, '_num_ps_replicas': 0}\n"
     ]
    }
   ],
   "source": [
    "chkpt_path = 'gs://world-fishing-827-dev-ttl30d/data-production/classification/timothyhochberg/vessel_char_v20181023A/models/vessel_characterization'\n",
    "estimator = mdl.make_estimator(chkpt_path)"
   ]
  },
  {
   "cell_type": "code",
   "execution_count": 8,
   "metadata": {},
   "outputs": [
    {
     "ename": "NameError",
     "evalue": "name 'results' is not defined",
     "output_type": "error",
     "traceback": [
      "\u001b[0;31m---------------------------------------------------------------------------\u001b[0m",
      "\u001b[0;31mNameError\u001b[0m                                 Traceback (most recent call last)",
      "\u001b[0;32m<ipython-input-8-ec0cecf2039c>\u001b[0m in \u001b[0;36m<module>\u001b[0;34m()\u001b[0m\n\u001b[0;32m----> 1\u001b[0;31m \u001b[0;32mfor\u001b[0m \u001b[0mresult\u001b[0m \u001b[0;32min\u001b[0m \u001b[0mresults\u001b[0m\u001b[0;34m:\u001b[0m\u001b[0;34m\u001b[0m\u001b[0m\n\u001b[0m\u001b[1;32m      2\u001b[0m     \u001b[0mvid\u001b[0m \u001b[0;34m=\u001b[0m \u001b[0mvessel_metadata\u001b[0m\u001b[0;34m.\u001b[0m\u001b[0mmmsi_map_int2str\u001b[0m\u001b[0;34m[\u001b[0m\u001b[0mint\u001b[0m\u001b[0;34m(\u001b[0m\u001b[0mresult\u001b[0m\u001b[0;34m[\u001b[0m\u001b[0;34m'mmsi'\u001b[0m\u001b[0;34m]\u001b[0m\u001b[0;34m)\u001b[0m\u001b[0;34m]\u001b[0m\u001b[0;34m\u001b[0m\u001b[0m\n\u001b[1;32m      3\u001b[0m     \u001b[0mcls\u001b[0m \u001b[0;34m=\u001b[0m \u001b[0mmetadata\u001b[0m\u001b[0;34m.\u001b[0m\u001b[0mVESSEL_CLASS_DETAILED_NAMES\u001b[0m\u001b[0;34m[\u001b[0m\u001b[0mnp\u001b[0m\u001b[0;34m.\u001b[0m\u001b[0margmax\u001b[0m\u001b[0;34m(\u001b[0m\u001b[0mresult\u001b[0m\u001b[0;34m[\u001b[0m\u001b[0;34m'Vessel-class'\u001b[0m\u001b[0;34m]\u001b[0m\u001b[0;34m)\u001b[0m\u001b[0;34m]\u001b[0m\u001b[0;34m\u001b[0m\u001b[0m\n\u001b[1;32m      4\u001b[0m     print(vid[:5], \n\u001b[1;32m      5\u001b[0m           \u001b[0mvessel_metadata\u001b[0m\u001b[0;34m.\u001b[0m\u001b[0mmetadata_by_mmsi\u001b[0m\u001b[0;34m[\u001b[0m\u001b[0mvid\u001b[0m\u001b[0;34m]\u001b[0m\u001b[0;34m[\u001b[0m\u001b[0;36m0\u001b[0m\u001b[0;34m]\u001b[0m\u001b[0;34m[\u001b[0m\u001b[0;34m'label'\u001b[0m\u001b[0;34m]\u001b[0m\u001b[0;34m,\u001b[0m \u001b[0mcls\u001b[0m\u001b[0;34m,\u001b[0m\u001b[0;34m\u001b[0m\u001b[0m\n",
      "\u001b[0;31mNameError\u001b[0m: name 'results' is not defined"
     ]
    }
   ],
   "source": [
    "for result in results:\n",
    "    vid = vessel_metadata.mmsi_map_int2str[int(result['mmsi'])]\n",
    "    cls = metadata.VESSEL_CLASS_DETAILED_NAMES[np.argmax(result['Vessel-class'])]\n",
    "    print(vid[:5], \n",
    "          vessel_metadata.metadata_by_mmsi[vid][0]['label'], cls,\n",
    "          vessel_metadata.metadata_by_mmsi[vid][0]['length'], np.exp(result['Vessel-length']))"
   ]
  },
  {
   "cell_type": "code",
   "execution_count": null,
   "metadata": {},
   "outputs": [],
   "source": [
    "# So running predictions \"by hand\" works. What about using an Inferer?\n",
    "\n",
    "inferer = run_inference.Inferer(mdl, chkpt_path, root_feature_path)\n",
    "\n",
    "all_results = []\n",
    "for results in inferer.run_inference(vessel_ids, 6, datetime(2015,1,1, tzinfo=pytz.UTC), \n",
    "                                     datetime(2017, 12, 31, tzinfo=pytz.UTC)):\n",
    "    all_results.append(results)"
   ]
  },
  {
   "cell_type": "code",
   "execution_count": null,
   "metadata": {},
   "outputs": [],
   "source": [
    "for result in all_results:\n",
    "    vid = vessel_metadata.mmsi_map_int2str[int(result['mmsi'])]\n",
    "    cls = result['Multiclass']['max_label']\n",
    "    print(vid[:5], \n",
    "          vessel_metadata.metadata_by_mmsi[vid][0]['label'], cls,\n",
    "          vessel_metadata.metadata_by_mmsi[vid][0]['length'], result['length']['value'])"
   ]
  },
  {
   "cell_type": "code",
   "execution_count": null,
   "metadata": {},
   "outputs": [],
   "source": [
    "cmd = r'''\n",
    "docker-compose run vessel_inference  \\\n",
    "                --feature_path {}   \\\n",
    "                --checkpoint_path  {}    \\\n",
    "                --feature_dimensions 14   \\\n",
    "                --results_table=world-fishing-827:machine_learning_dev_ttl_120d.smoke_test_vessel_inference_v20181024_   \\\n",
    "                --start_date 2017-01-01   \\\n",
    "                --end_date 2017-12-31   \\\n",
    "                --project world-fishing-827   \\\n",
    "                --temp_location gs://machine-learning-dev-ttl-30d/scratch/inference   \\\n",
    "                --job_name smoke-test-vessel-inference   \\\n",
    "                --max_num_workers 100   \\\n",
    "                --setup_file ./setup.py   \\\n",
    "                --requirements_file requirements.txt   \\\n",
    "                --runner DataflowRunner  \\\n",
    "                --max_num_workers 100  \\\n",
    "                --worker_machine_type=custom-1-13312-ext\n",
    "'''.format(root_feature_path, chkpt_path)\n",
    "print(cmd)"
   ]
  },
  {
   "cell_type": "code",
   "execution_count": null,
   "metadata": {},
   "outputs": [],
   "source": [
    "test_vessel_ids = vessel_metadata.metadata_by_split['Test'].keys()\n",
    "np.random.seed(888)\n",
    "test_vessel_ids = np.random.choice(test_vessel_ids, 2000)\n",
    "\n",
    "query = \"\"\"\n",
    "SELECT * FROM `world-fishing-827.machine_learning_dev_ttl_120d.smoke_test_vessel_inference_v20181024_*` \n",
    "WHERE _TABLE_SUFFIX >= \"20170101\" AND\n",
    "vessel_id  in ({})\n",
    "LIMIT 1000\n",
    "\"\"\".format(', '.join(['\"{}\"'.format(x) for x in test_vessel_ids]))\n",
    "\n",
    "\n",
    "\n",
    "results_df = pandas.read_gbq(query, project_id='world-fishing-827', dialect='standard')\n",
    "\n",
    "results_df.head()"
   ]
  },
  {
   "cell_type": "code",
   "execution_count": null,
   "metadata": {},
   "outputs": [],
   "source": [
    "for result in results_df.itertuples():\n",
    "    vid = result.vessel_id\n",
    "    cls = result.max_label\n",
    "    print(vid[:5], \n",
    "          vessel_metadata.metadata_by_mmsi[vid][0]['label'], cls,\n",
    "          vessel_metadata.metadata_by_mmsi[vid][0]['length'], result.length)"
   ]
  },
  {
   "cell_type": "code",
   "execution_count": null,
   "metadata": {},
   "outputs": [],
   "source": [
    "keys = [x['label'] for x in results_df.iloc[0].label_scores]\n",
    "x = []\n",
    "y = []\n",
    "for result in results_df.itertuples():\n",
    "    y.append(keys.index(result.max_label))\n",
    "    vid = result.vessel_id\n",
    "    lbl = vessel_metadata.metadata_by_mmsi[vid][0]['label']\n",
    "    x.append(keys.index(lbl))\n",
    "    \n",
    "plt.figure(figsize=(12, 12))\n",
    "plt.plot(x, y, '.', markersize=20, alpha = 0.1)\n",
    "# keys"
   ]
  },
  {
   "cell_type": "code",
   "execution_count": null,
   "metadata": {},
   "outputs": [],
   "source": [
    "x = []\n",
    "y = []\n",
    "for result in results_df.itertuples():\n",
    "    vid = result.vessel_id\n",
    "    length = vessel_metadata.metadata_by_mmsi[vid][0]['length']\n",
    "    if length:\n",
    "        y.append((result.length))\n",
    "        vid = result.vessel_id\n",
    "        length = vessel_metadata.metadata_by_mmsi[vid][0]['length']\n",
    "        x.append(length)\n",
    "    \n",
    "plt.figure(figsize=(12, 12))\n",
    "plt.plot(x, y, '.', markersize=5)\n",
    "len(x)"
   ]
  },
  {
   "cell_type": "code",
   "execution_count": null,
   "metadata": {
    "collapsed": true
   },
   "outputs": [],
   "source": [
    "input_fn = mdl.make_test_input_fn(root_feature_path, 32, prefetch=1)\n",
    "dataset = input_fn()\n",
    "iter = dataset.make_one_shot_iterator()\n",
    "el = iter.get_next()\n",
    "with tf.Session() as sess:\n",
    "    el = sess.run(el)"
   ]
  },
  {
   "cell_type": "code",
   "execution_count": null,
   "metadata": {
    "collapsed": true
   },
   "outputs": [],
   "source": [
    "from classification.models.fishing_detection import Model\n",
    "real_mdl = Model(14, vessel_metadata, 'minimal')"
   ]
  },
  {
   "cell_type": "code",
   "execution_count": null,
   "metadata": {},
   "outputs": [],
   "source": [
    "dataset = real_mdl.make_test_input_fn(root_feature_path, 4)()\n",
    "iter = dataset.make_one_shot_iterator()\n",
    "el = iter.get_next()\n",
    "with tf.Session() as sess:\n",
    "    el = sess.run(el)\n",
    "el[0][0].shape, el[1].shape"
   ]
  },
  {
   "cell_type": "code",
   "execution_count": null,
   "metadata": {},
   "outputs": [],
   "source": [
    "import pandas as pd\n",
    "train_df = pd.read_csv('classification/data/training_classes_vessel_id.csv')\n",
    "train_df.head()"
   ]
  },
  {
   "cell_type": "code",
   "execution_count": null,
   "metadata": {},
   "outputs": [],
   "source": [
    "mmsis = open('mmsis.txt').read().strip().split()"
   ]
  },
  {
   "cell_type": "code",
   "execution_count": null,
   "metadata": {
    "collapsed": true
   },
   "outputs": [],
   "source": [
    "in_both = set(mmsis) & set(train_df.mmsi)\n",
    "len(in_both)"
   ]
  },
  {
   "cell_type": "code",
   "execution_count": null,
   "metadata": {
    "collapsed": true
   },
   "outputs": [],
   "source": [
    "sorted(mmsis)[:10]"
   ]
  },
  {
   "cell_type": "code",
   "execution_count": null,
   "metadata": {
    "collapsed": true
   },
   "outputs": [],
   "source": [
    "sorted(set(train_df.mmsi))[:10]"
   ]
  },
  {
   "cell_type": "code",
   "execution_count": null,
   "metadata": {
    "collapsed": true
   },
   "outputs": [],
   "source": [
    "mapper = pd.read_csv('train/ssvid_to_vessel_id.csv')"
   ]
  },
  {
   "cell_type": "code",
   "execution_count": null,
   "metadata": {
    "collapsed": true
   },
   "outputs": [],
   "source": [
    "sorted(set(mapper.vessel_id))[:10]"
   ]
  },
  {
   "cell_type": "code",
   "execution_count": null,
   "metadata": {
    "collapsed": true
   },
   "outputs": [],
   "source": [
    "def fakerator():\n",
    "    while True:\n",
    "        for i in range(3):\n",
    "            yield i\n",
    "        raise StopIteration\n",
    "        \n",
    "f = fakerator()\n",
    "\n",
    "print('a')\n",
    "for x in f:\n",
    "    print x\n",
    "    \n",
    "print('b')\n",
    "for x in f:\n",
    "    print x"
   ]
  },
  {
   "cell_type": "code",
   "execution_count": null,
   "metadata": {
    "collapsed": true
   },
   "outputs": [],
   "source": [
    "2 + 2"
   ]
  }
 ],
 "metadata": {
  "kernelspec": {
   "display_name": "Python 2",
   "language": "python",
   "name": "python2"
  },
  "language_info": {
   "codemirror_mode": {
    "name": "ipython",
    "version": 2
   },
   "file_extension": ".py",
   "mimetype": "text/x-python",
   "name": "python",
   "nbconvert_exporter": "python",
   "pygments_lexer": "ipython2",
   "version": "2.7.13"
  }
 },
 "nbformat": 4,
 "nbformat_minor": 2
}
