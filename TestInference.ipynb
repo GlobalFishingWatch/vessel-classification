{
 "cells": [
  {
   "cell_type": "code",
   "execution_count": 76,
   "metadata": {},
   "outputs": [],
   "source": [
    "from __future__ import print_function\n",
    "import tensorflow as tf\n",
    "from classification.models import model\n",
    "from classification import metadata\n",
    "import numpy as np\n",
    "from datetime import datetime\n",
    "import pytz\n",
    "from classification import run_inference"
   ]
  },
  {
   "cell_type": "code",
   "execution_count": 2,
   "metadata": {
    "collapsed": true
   },
   "outputs": [],
   "source": [
    "class MyModel(model.ModelBase): \n",
    "    def build_inference_net(self):\n",
    "        pass\n",
    "    def build_training_net(self):\n",
    "        pass\n",
    "    @property\n",
    "    def max_window_duration_seconds(self):\n",
    "        # A fixed-length rather than fixed-duration window.\n",
    "        return 0\n",
    "\n",
    "    @property\n",
    "    def window_max_points(self):\n",
    "        return 1024\n",
    "    \n",
    "    def make_input_fn(self, base_feature_path, split, num_parallel_reads):\n",
    "        def training_input_fn():\n",
    "            return (fishing_feature_generation.input_fn(\n",
    "                        self.vessel_metadata,\n",
    "                        self.build_training_file_list(base_feature_path, split),\n",
    "                        self.num_feature_dimensions + 1,\n",
    "                        self.max_window_duration_seconds,\n",
    "                        self.window_max_points,\n",
    "                        self.min_viable_timeslice_length,\n",
    "                        select_ranges=self.use_ranges_for_training,\n",
    "                        num_parallel_reads=num_parallel_reads)\n",
    "                .prefetch(self.batch_size)\n",
    "                .batch(self.batch_size)\n",
    "                )\n",
    "        return training_input_fn\n",
    "    \n",
    "    def make_training_input_fn(self, base_feature_path, num_parallel_reads):\n",
    "        return self.make_input_fn(base_feature_path, utility.TRAINING_SPLIT, num_parallel_reads)\n",
    "    \n",
    "root_feature_path = \"gs://machine-learning-dev-ttl-120d/features/ppb_features_through2017/features\"\n",
    "fishing_range_file = \"classification/data/combined_fishing_ranges_vessel_id.csv\"\n",
    "metadata_file = \"classification/data/training_classes_vessel_id.csv\"\n",
    "\n",
    "fishing_ranges = metadata.read_fishing_ranges(fishing_range_file)\n",
    "all_available_mmsis = metadata.find_available_mmsis(root_feature_path)\n",
    "\n",
    "vessel_metadata = MyModel.read_metadata(\n",
    "        all_available_mmsis, metadata_file,\n",
    "        fishing_ranges, 1)\n",
    "\n",
    "# mdl = MyModel(14, vessel_metadata)\n",
    "# files = mdl.build_training_file_list(root_feature_path , utility.TRAINING_SPLIT)"
   ]
  },
  {
   "cell_type": "code",
   "execution_count": 3,
   "metadata": {},
   "outputs": [
    {
     "data": {
      "text/plain": [
       "['000020b39-9a62-1a09-60fe-d65a9e39c2cf',\n",
       " '0000c5d13-3506-2b61-4e28-d6899b26042a',\n",
       " '0000e640f-f180-f001-2eec-7e35ff334468',\n",
       " '0000f9035-5cdc-333b-2a65-5cbb36b11e7e',\n",
       " '00012e8f4-4969-4ade-4c87-441dd4df3cb9',\n",
       " '0001caf0c-ccad-da52-51da-89a663aa557d',\n",
       " '0001d40eb-b6cd-6b77-df8d-abfb50da79ef',\n",
       " '00023cd36-6923-af32-1bef-62ccd5ae74f1',\n",
       " '000247f64-4b77-df37-ad93-f61ef44e72b3',\n",
       " '000257665-5945-b990-1011-bc453452ae78']"
      ]
     },
     "execution_count": 3,
     "metadata": {},
     "output_type": "execute_result"
    }
   ],
   "source": [
    "sorted(vessel_metadata.metadata_by_mmsi)[:10]"
   ]
  },
  {
   "cell_type": "code",
   "execution_count": 69,
   "metadata": {},
   "outputs": [
    {
     "name": "stdout",
     "output_type": "stream",
     "text": [
      "{'timestamps': array([[1448952064, 1448997760, 1449019776, ..., 1453312256, 1453313280,\n",
      "        1453314176]], dtype=int32), 'mmsi': array(['-4484213255844134909'], dtype=object), 'features': array([[[10.730335  ,  6.601677  ,  0.41504836, ...,  0.        ,\n",
      "          0.        ,  0.        ],\n",
      "        [ 9.997342  ,  7.2467427 ,  0.7074879 , ...,  0.        ,\n",
      "          0.        ,  0.        ],\n",
      "        [ 8.23483   ,  6.0153675 ,  0.34469208, ...,  0.        ,\n",
      "          0.        ,  0.        ],\n",
      "        ...,\n",
      "        [ 6.929517  ,  4.9091506 ,  0.41504836, ...,  0.        ,\n",
      "          0.        ,  0.        ],\n",
      "        [ 6.8669333 ,  5.94337   ,  0.38048884, ...,  0.        ,\n",
      "          0.        ,  0.        ],\n",
      "        [ 6.8679743 ,  6.0894523 ,  0.14352287, ...,  0.        ,\n",
      "          0.        ,  0.        ]]], dtype=float32), 'time_ranges': array([[1438416000, 1453968000]], dtype=int32)}\n",
      "({'timestamps': array([[1446351104, 1446356608, 1446376832, ..., 1502705408, 1502707072,\n",
      "        1502709120],\n",
      "       [1432211456, 1432212480, 1432213376, ..., 1444842112, 1444843136,\n",
      "        1444844160],\n",
      "       [1421744384, 1421745024, 1421746176, ..., 1431716992, 1431717888,\n",
      "        1431719936],\n",
      "       ...,\n",
      "       [1428237952, 1428238720, 1428239488, ..., 1495963136, 1495964288,\n",
      "        1495965184],\n",
      "       [1492154496, 1492155008, 1492155520, ..., 1498866688, 1498867072,\n",
      "        1498867584],\n",
      "       [1481688832, 1481689856, 1481691136, ..., 1501498496, 1501498880,\n",
      "        1501499264]], dtype=int32), 'mmsi': array(['7cf895398-8633-30b2-6251-6bd361905e4b',\n",
      "       '7b5981cc0-0712-4b88-c839-57b9c7763623',\n",
      "       'be1b60058-8cef-6843-5677-1858d63bca8b',\n",
      "       'f69f7c862-2e18-5c5c-7a0d-df5af7cd1229',\n",
      "       '165435e26-640a-e4eb-8e53-1364efb183be',\n",
      "       '3657d730c-c37c-e1ab-3358-0861f7c83b89',\n",
      "       '4bcb7257a-a14e-220f-e97c-261f9f073aba',\n",
      "       'fe9b0337e-e18d-0817-f74a-0fa9a4864a2a',\n",
      "       'b48e39845-57de-16bb-e388-d7967d10ba08',\n",
      "       '6de3171ee-e3f7-96c1-4139-ebcf6d89db89',\n",
      "       '701f111d0-0c6f-4e4f-8c09-60d8b6fee46e',\n",
      "       'da5a683a5-54fa-aef6-25ea-e3b3e641adef',\n",
      "       'a71aa65a0-045f-f69c-b5a5-9ede79bd59ad',\n",
      "       '83f63af03-363e-8388-b791-bbe045da9f1b',\n",
      "       '1fe1a77f1-1caa-5af7-e455-5cff20c608d9',\n",
      "       '6aab64c8d-d3fc-3ee4-08fd-013e4a6366a6',\n",
      "       '49f4fcdb5-55eb-0ab7-5ec1-dfd5f1eff793',\n",
      "       'a614becc0-060f-2ea4-8820-7cfeb3353c08',\n",
      "       '2349eb265-56e8-42a2-d734-4e7323169e3a',\n",
      "       '7de1a837c-ce44-d041-3db6-45904c46d1e1',\n",
      "       '71dcc4683-31ac-3d8c-2542-a78a723b7e13',\n",
      "       '1ca2f9323-3292-5c6c-cf24-9d2a9eb98d7a',\n",
      "       '4fc474880-0950-8ece-24bd-12d95b252ed3',\n",
      "       '1d94a91f3-3684-d725-ca46-47d06afdfae5',\n",
      "       '3029a1fac-c973-8130-e3db-4a1ddc998c1f',\n",
      "       '5f69f08dc-c0a4-09de-0420-1e6e16b22bed',\n",
      "       '4c3e63616-68cc-9976-cb2a-cc3c9fd5ecae',\n",
      "       'dd77624ae-e170-7a8f-1a43-cd4ed58559c7',\n",
      "       '1d94a91f3-3684-d725-ca46-47d06afdfae5',\n",
      "       '2349eb265-56e8-42a2-d734-4e7323169e3a',\n",
      "       '64e97fd42-2888-2d1e-448a-d070cf381a1d',\n",
      "       '7dd681c22-2f62-e3e8-219c-16ddbab2c9d8',\n",
      "       '598b42bbf-f6fa-e2da-db0d-ed8fb0631d1a',\n",
      "       '2f2982d42-2876-5c2f-3f55-1a03dcdc6fa2',\n",
      "       '2c8e2bd26-6392-41ce-5a94-2c52697b2c43',\n",
      "       'ca632b551-178c-84f5-f6e7-7105e5b66dd7',\n",
      "       '71dcc4683-31ac-3d8c-2542-a78a723b7e13',\n",
      "       'f5b6e292f-f852-3a12-145f-fcb16ca2ccf1',\n",
      "       'c5c2efa43-3ae0-22d6-1571-8bb7ce3dc715',\n",
      "       '7233bfcf9-9e8e-9717-e120-9e874e9bb4c3',\n",
      "       '4e9956b34-4366-8e2e-341d-0e0fc3fb9d48',\n",
      "       '5bf58552b-b1b1-f52c-f023-7d4df107e89a',\n",
      "       '461516970-01f9-004e-b128-f980bb47b41d',\n",
      "       '4e9956b34-4366-8e2e-341d-0e0fc3fb9d48',\n",
      "       '2c8e2bd26-6392-41ce-5a94-2c52697b2c43',\n",
      "       '7423a94b2-2be9-c97e-6e42-ad072a043350',\n",
      "       '461516970-01f9-004e-b128-f980bb47b41d',\n",
      "       'd7febbefb-b898-5adc-2981-791ae12d1cf8',\n",
      "       '1b3cd8352-2332-4877-be26-bf00d5472bbf',\n",
      "       '701f111d0-0c6f-4e4f-8c09-60d8b6fee46e',\n",
      "       '1fe1a77f1-1caa-5af7-e455-5cff20c608d9',\n",
      "       '3ebd08680-0281-cb96-825c-78c2ec1ea6db',\n",
      "       '9465ca5d5-5c2e-0e5b-7894-2812432503e1',\n",
      "       '0b361db06-676a-0962-c789-e1ad61cd06ce',\n",
      "       'c91aa874a-a39a-ee71-44b2-2b0b4fea11c3',\n",
      "       'ac01222aa-ae84-5d9d-a29d-a6f1b47cdda6',\n",
      "       '3ebd08680-0281-cb96-825c-78c2ec1ea6db',\n",
      "       'be0da3a8a-a7e4-06de-5dae-2fe69ab61042',\n",
      "       'eb24fea39-99d5-2883-2901-097f1eea98a4',\n",
      "       '7f2ff60d5-5f60-4ea2-da08-3d6f6a2cb0c1',\n",
      "       '16d7041b0-0fde-9956-40f3-ba35e60b6806',\n",
      "       '618258863-33fd-4818-2856-de879f49dfec',\n",
      "       '16d7041b0-0fde-9956-40f3-ba35e60b6806',\n",
      "       'dd77624ae-e170-7a8f-1a43-cd4ed58559c7'], dtype=object), 'features': array([[[8.623893  , 8.895609  , 0.22890453, ..., 0.        ,\n",
      "         0.        , 0.        ],\n",
      "        [9.911357  , 8.030717  , 0.7074879 , ..., 0.        ,\n",
      "         0.        , 0.        ],\n",
      "        [8.802672  , 8.699227  , 0.7074879 , ..., 0.        ,\n",
      "         0.        , 0.        ],\n",
      "        ...,\n",
      "        [7.376508  , 6.8220043 , 0.7074879 , ..., 0.        ,\n",
      "         0.        , 0.        ],\n",
      "        [7.6778636 , 7.36244   , 0.41504836, ..., 0.        ,\n",
      "         0.        , 0.        ],\n",
      "        [5.7071104 , 4.7212934 , 0.        , ..., 0.        ,\n",
      "         0.        , 0.        ]],\n",
      "\n",
      "       [[6.814543  , 7.3667393 , 0.99238664, ..., 0.        ,\n",
      "         0.        , 0.        ],\n",
      "        [6.8243737 , 7.3604803 , 1.0112771 , ..., 0.        ,\n",
      "         0.        , 0.        ],\n",
      "        [6.82546   , 6.0246572 , 0.99238664, ..., 0.        ,\n",
      "         0.        , 0.        ],\n",
      "        ...,\n",
      "        [6.989335  , 1.3286066 , 0.        , ..., 0.        ,\n",
      "         0.        , 0.        ],\n",
      "        [6.982863  , 1.2844317 , 0.        , ..., 0.        ,\n",
      "         0.        , 0.        ],\n",
      "        [6.8079348 , 1.6168487 , 0.        , ..., 0.        ,\n",
      "         0.        , 0.        ]],\n",
      "\n",
      "       [[6.584791  , 0.5603255 , 0.        , ..., 0.        ,\n",
      "         0.        , 0.        ],\n",
      "        [6.9847164 , 0.51831913, 0.        , ..., 0.        ,\n",
      "         0.        , 0.        ],\n",
      "        [6.582025  , 0.3189105 , 0.        , ..., 0.        ,\n",
      "         0.        , 0.        ],\n",
      "        ...,\n",
      "        [6.856462  , 0.7696239 , 0.        , ..., 0.        ,\n",
      "         0.        , 0.        ],\n",
      "        [7.6068845 , 0.91728616, 0.        , ..., 0.        ,\n",
      "         0.        , 0.        ],\n",
      "        [7.385851  , 1.1993345 , 0.        , ..., 0.        ,\n",
      "         0.        , 0.        ]],\n",
      "\n",
      "       ...,\n",
      "\n",
      "       [[6.659294  , 7.9771686 , 1.5806948 , ..., 0.        ,\n",
      "         0.        , 0.        ],\n",
      "        [6.660575  , 7.813921  , 1.492179  , ..., 0.        ,\n",
      "         0.        , 0.        ],\n",
      "        [6.660575  , 7.55591   , 1.3692323 , ..., 0.        ,\n",
      "         0.        , 0.        ],\n",
      "        ...,\n",
      "        [6.9584484 , 7.943677  , 1.2731873 , ..., 0.        ,\n",
      "         0.        , 0.        ],\n",
      "        [6.897705  , 7.9205236 , 1.3015827 , ..., 0.        ,\n",
      "         0.        , 0.        ],\n",
      "        [6.9574976 , 8.020395  , 1.3560636 , ..., 0.        ,\n",
      "         0.        , 0.        ]],\n",
      "\n",
      "       [[6.066108  , 0.87625134, 0.        , ..., 0.        ,\n",
      "         0.        , 0.        ],\n",
      "        [6.291569  , 0.        , 0.        , ..., 0.        ,\n",
      "         0.        , 0.        ],\n",
      "        [6.2934194 , 2.0259686 , 0.        , ..., 0.        ,\n",
      "         0.        , 0.        ],\n",
      "        ...,\n",
      "        [5.886104  , 0.56185734, 0.        , ..., 0.        ,\n",
      "         0.        , 0.        ],\n",
      "        [6.2934194 , 0.61420643, 0.        , ..., 0.        ,\n",
      "         0.        , 0.        ],\n",
      "        [5.891644  , 0.44210213, 0.        , ..., 0.        ,\n",
      "         0.        , 0.        ]],\n",
      "\n",
      "       [[6.8405466 , 2.1515665 , 0.05016484, ..., 0.        ,\n",
      "         0.        , 0.        ],\n",
      "        [7.149132  , 3.361393  , 0.05016484, ..., 0.        ,\n",
      "         0.        , 0.        ],\n",
      "        [6.931472  , 3.9895897 , 0.05016484, ..., 0.        ,\n",
      "         0.        , 0.        ],\n",
      "        ...,\n",
      "        [5.8833222 , 0.7199444 , 0.        , ..., 0.        ,\n",
      "         0.        , 0.        ],\n",
      "        [5.891644  , 0.9119999 , 0.05016484, ..., 0.        ,\n",
      "         0.        , 0.        ],\n",
      "        [5.7071104 , 1.2372377 , 0.        , ..., 0.        ,\n",
      "         0.        , 0.        ]]], dtype=float32), 'time_ranges': array([[1446351104, 1504179072],\n",
      "       [1432211456, 1444844160],\n",
      "       [1421744384, 1508182784],\n",
      "       [1486205056, 1514697344],\n",
      "       [1487975040, 1510308992],\n",
      "       [1485909248, 1498866176],\n",
      "       [1354933376, 1383435520],\n",
      "       [1366714368, 1430302464],\n",
      "       [1449725568, 1488773760],\n",
      "       [1483229824, 1496274048],\n",
      "       [1466527872, 1503966848],\n",
      "       [1364157056, 1378115328],\n",
      "       [1356826240, 1372635008],\n",
      "       [1457588096, 1468121216],\n",
      "       [1485860096, 1511481728],\n",
      "       [1341200256, 1379293184],\n",
      "       [1339281792, 1356710528],\n",
      "       [1446168448, 1460746496],\n",
      "       [1407328768, 1512078464],\n",
      "       [1410636672, 1509479296],\n",
      "       [1498476416, 1514758400],\n",
      "       [1464875648, 1510225920],\n",
      "       [1414671616, 1471475712],\n",
      "       [1491936896, 1514759808],\n",
      "       [1415106944, 1434969856],\n",
      "       [1326861952, 1373566720],\n",
      "       [1484167296, 1514764288],\n",
      "       [1475642880, 1514746880],\n",
      "       [1493424256, 1514759808],\n",
      "       [1460469376, 1512078464],\n",
      "       [1462427648, 1478315648],\n",
      "       [1489964416, 1512085120],\n",
      "       [1469789696, 1514361216],\n",
      "       [1467981184, 1498646144],\n",
      "       [1471589376, 1501286656],\n",
      "       [1472494976, 1512458368],\n",
      "       [1430274816, 1514758400],\n",
      "       [1494170496, 1504936832],\n",
      "       [1400507776, 1439424896],\n",
      "       [1376550784, 1444329472],\n",
      "       [1459052800, 1466611712],\n",
      "       [1381745152, 1419948800],\n",
      "       [1492914688, 1501589376],\n",
      "       [1467046272, 1474388864],\n",
      "       [1489648512, 1502799360],\n",
      "       [1352353920, 1511603840],\n",
      "       [1363087872, 1376631808],\n",
      "       [1439893248, 1514764544],\n",
      "       [1328429440, 1386101376],\n",
      "       [1420221184, 1503966848],\n",
      "       [1495165952, 1511481728],\n",
      "       [1491730560, 1513572992],\n",
      "       [1392221440, 1406324096],\n",
      "       [1409492096, 1446318080],\n",
      "       [1491767936, 1511557888],\n",
      "       [1402330496, 1433676416],\n",
      "       [1399657600, 1485382656],\n",
      "       [1392933760, 1404436608],\n",
      "       [1364651008, 1399029888],\n",
      "       [1425908992, 1514763520],\n",
      "       [1409220480, 1424500096],\n",
      "       [1428237952, 1508069632],\n",
      "       [1492154496, 1498867584],\n",
      "       [1481688832, 1514746880]], dtype=int32)}, {'Vessel-class': array([[0., 0., 0., ..., 0., 0., 0.],\n",
      "       [0., 0., 0., ..., 0., 0., 0.],\n",
      "       [0., 0., 0., ..., 0., 0., 0.],\n",
      "       ...,\n",
      "       [0., 0., 0., ..., 0., 0., 0.],\n",
      "       [0., 1., 0., ..., 0., 0., 0.],\n",
      "       [0., 0., 0., ..., 0., 1., 0.]], dtype=float32), 'Vessel-length': array([ 53.74  ,  56.486 ,  17.8   ,      nan,  13.52  ,      nan,\n",
      "            nan,  64.05  ,  16.6   ,      nan,  15.8   ,      nan,\n",
      "        24.5   ,      nan,  10.98  ,  52.51  , 115.83  ,      nan,\n",
      "        19.15  ,      nan,  50.1   ,  17.14  ,      nan,      nan,\n",
      "            nan,      nan,      nan,  42.45  ,      nan,  19.15  ,\n",
      "        28.    ,  28.1   ,      nan,  86.193 ,      nan,  18.    ,\n",
      "        50.1   ,      nan,      nan,  32.    ,      nan,  49.646 ,\n",
      "        23.82  ,      nan,      nan,      nan,  23.82  ,  56.2115,\n",
      "        60.68  ,  15.8   ,  10.98  ,  23.34  ,      nan,      nan,\n",
      "            nan,  81.    ,  23.34  ,      nan,      nan,      nan,\n",
      "            nan,      nan,      nan,  42.45  ], dtype=float32), 'Vessel-Crew-Size': array([29., nan, nan, nan, nan, nan, nan, 50., nan, nan, nan, nan, nan,\n",
      "       nan, nan, nan, nan, nan, nan, nan, nan, nan, nan,  9., nan, nan,\n",
      "       nan, nan,  9., nan, nan, nan, nan, nan, nan, nan, nan, nan, nan,\n",
      "       nan, nan, 25.,  6., nan, nan, nan,  6., nan, 25., nan, nan,  6.,\n",
      "       12., nan, nan, nan,  6.,  6., nan, nan, nan, nan, nan, nan],\n",
      "      dtype=float32), 'Vessel-engine-Power': array([ 971.   , 2097.6  ,   91.91 ,      nan,      nan,      nan,\n",
      "            nan, 2460.   ,  175.67 ,      nan,  320.   ,      nan,\n",
      "        312.5  ,      nan,  101.499,      nan,      nan,      nan,\n",
      "        206.   ,      nan,  993.   ,  176.47 ,      nan,      nan,\n",
      "            nan,      nan,      nan,      nan,      nan,  206.   ,\n",
      "        264.411,  368.   ,      nan, 1766.4  ,      nan,   88.24 ,\n",
      "        993.   ,      nan,      nan,  367.65 ,      nan,  743.25 ,\n",
      "        221.   ,      nan,      nan,      nan,  221.   , 2812.992,\n",
      "       1985.   ,  320.   ,  101.499,  221.   ,      nan,      nan,\n",
      "            nan,      nan,  221.   ,      nan,      nan,      nan,\n",
      "            nan,      nan,      nan,      nan], dtype=float32), 'Vessel-tonnage': array([8.40000e+02, 1.08300e+03, 3.27400e+01,         nan,         nan,\n",
      "               nan, 4.95000e+02, 1.92800e+03, 4.90000e+01, 5.28967e+03,\n",
      "       2.80000e+01, 3.98000e+02, 9.35700e+01,         nan, 1.35000e+01,\n",
      "       4.70000e+02, 4.26100e+03, 4.24700e+03, 3.90000e+01, 1.50000e+01,\n",
      "       6.53000e+02, 4.00000e+01,         nan, 3.40000e+01, 8.14930e+04,\n",
      "       8.53900e+03, 4.99000e+02, 2.41000e+02, 3.40000e+01, 3.90000e+01,\n",
      "       1.69000e+02, 1.84000e+02,         nan, 2.76200e+03, 7.64000e+02,\n",
      "       3.76000e+01, 6.53000e+02,         nan, 3.90100e+03, 3.36000e+02,\n",
      "       9.99600e+03, 3.80000e+02, 6.90000e+01, 9.99600e+03, 7.64000e+02,\n",
      "       1.58600e+01, 6.90000e+01, 1.44500e+03, 1.09200e+03, 2.80000e+01,\n",
      "       1.35000e+01, 8.30000e+01, 1.10000e+01, 1.61700e+03, 1.37640e+04,\n",
      "               nan, 8.30000e+01, 2.43000e+02,         nan,         nan,\n",
      "       1.76870e+04,         nan, 1.76870e+04, 2.41000e+02], dtype=float32)})\n"
     ]
    }
   ],
   "source": [
    "import imp\n",
    "import pytz\n",
    "import classification.models.objectives\n",
    "imp.reload(classification.models.objectives)\n",
    "from classification.feature_generation import vessel_feature_generation\n",
    "imp.reload(vessel_feature_generation)\n",
    "from classification.feature_generation import fishing_feature_generation\n",
    "imp.reload(fishing_feature_generation)\n",
    "import classification.models.vessel_characterization\n",
    "imp.reload(classification.models.vessel_characterization)\n",
    "import classification.models.vessel_characterization\n",
    "imp.reload(classification.models.vessel_characterization)\n",
    "from classification.models.vessel_characterization import Model\n",
    "import classification.models.fishing_detection\n",
    "import classification.feature_generation.feature_utilities\n",
    "imp.reload(classification.feature_generation.feature_utilities)\n",
    "from classification.feature_generation.feature_utilities import EPOCH_DT\n",
    "# imp.reload(classification.models.prod.fishing_detection)\n",
    "# from classification.models.prod.fishing_detection import Model\n",
    "\n",
    "mdl = Model(14, vessel_metadata, 'minimal')\n",
    "    \n",
    "time_ranges = [(1328083200, 1343635200), (1343808000, 1359360000), (1359705600, 1375257600), (1375344000, 1390896000), (1391241600, 1406793600), (1406880000, 1422432000), (1422777600, 1438329600), (1438416000, 1453968000), (1454313600, 1469865600), (1470038400, 1485590400), (1485936000, 1501488000), (1501574400, 1517126400)]\n",
    "# time_ranges = [((datetime(2015, 6, 1, tzinfo=pytz.utc) - EPOCH_DT).total_seconds(), (datetime(2015, 7, 1, tzinfo=pytz.utc) - EPOCH_DT).total_seconds())]\n",
    "template = \"gs://machine-learning-dev-ttl-120d/features/ppb_features_through2017/features/{}.tfrecord\"\n",
    "vessel_ids = vessel_metadata.metadata_by_mmsi.keys()[:10]\n",
    "paths = [template.format(x) for x in vessel_ids]\n",
    "\n",
    "# paths = \"\"\"\n",
    "# gs://machine-learning-dev-ttl-120d/features/ppb_features_through2017/features/000007c49-9673-3128-434d-6937d3400dd3.tfrecord\n",
    "# gs://machine-learning-dev-ttl-120d/features/ppb_features_through2017/features/000008a58-83b9-f7c6-e3af-148f962497f4.tfrecord\n",
    "# gs://machine-learning-dev-ttl-120d/features/ppb_features_through2017/features/000020b39-9a62-1a09-60fe-d65a9e39c2cf.tfrecord\n",
    "# gs://machine-learning-dev-ttl-120d/features/ppb_features_through2017/features/000027eb4-4bec-76cc-062b-6ce5cdcac685.tfrecord\n",
    "# gs://machine-learning-dev-ttl-120d/features/ppb_features_through2017/features/000073b65-58c6-abce-7fb1-a842a589aa96.tfrecord\n",
    "# gs://machine-learning-dev-ttl-120d/features/ppb_features_through2017/features/0000747d7-71d7-a018-9e87-d0fbab2adac6.tfrecord\n",
    "# gs://machine-learning-dev-ttl-120d/features/ppb_features_through2017/features/00009b2f0-0822-cdfc-ba1e-a4b05787f7b6.tfrecord\n",
    "# gs://machine-learning-dev-ttl-120d/features/ppb_features_through2017/features/00009f31c-ca68-b94d-11cc-f47ebd7390b8.tfrecord\n",
    "# gs://machine-learning-dev-ttl-120d/features/ppb_features_through2017/features/0000a8ba8-8c4c-255c-59e6-de6c90f79862.tfrecord\n",
    "# gs://machine-learning-dev-ttl-120d/features/ppb_features_through2017/features/0000b163b-b6ee-1b90-63d2-a2a1c6864e5a.tfrecord\n",
    "# \"\"\".strip().split()\n",
    "\n",
    "range_info = (datetime(2017,1,1), datetime(2017, 7, 1))\n",
    "input_fn_p = mdl.make_prediction_input_fn(paths, time_ranges, 32)\n",
    "iter_p = input_fn_p().make_one_shot_iterator()\n",
    "el_p = iter_p.get_next()\n",
    "\n",
    "input_fn_t = mdl.make_training_input_fn(root_feature_path, 32)\n",
    "iter_t = input_fn_t().make_one_shot_iterator()\n",
    "el_t = iter_t.get_next()\n",
    "\n",
    "with tf.Session() as sess:\n",
    "#     while True:\n",
    "        x_p = sess.run(el_p)\n",
    "        x_t = sess.run(el_t)\n",
    "        print(x_p)\n",
    "        print(x_t)\n"
   ]
  },
  {
   "cell_type": "code",
   "execution_count": 70,
   "metadata": {},
   "outputs": [
    {
     "name": "stdout",
     "output_type": "stream",
     "text": [
      "[ 6.6799445e+00  4.3288317e+00  4.1018948e-01  3.8333207e-01\n",
      "  4.1953898e-03  4.1828036e-02 -2.6415611e-02  9.2504042e-01\n",
      "  2.8000000e-01  1.3129959e-02  0.0000000e+00  0.0000000e+00\n",
      "  0.0000000e+00  0.0000000e+00]\n",
      "[0.77054167 2.6774557  0.5551633  0.49860933 0.4567945  0.7275532\n",
      " 0.68426394 0.06650381 0.24820158 0.5663661  0.         0.\n",
      " 0.         0.        ]\n"
     ]
    }
   ],
   "source": [
    "x_p['features'].shape\n",
    "print(x_p['features'].mean(axis=(0, 1)))\n",
    "print(x_p['features'].std(axis=(0, 1)))"
   ]
  },
  {
   "cell_type": "code",
   "execution_count": 71,
   "metadata": {},
   "outputs": [
    {
     "name": "stdout",
     "output_type": "stream",
     "text": [
      "[ 6.8936419e+00  4.7072058e+00  6.7743248e-01  6.3935423e-01\n",
      " -9.3634496e-04 -3.3658214e-02 -1.2032776e-02 -1.4703342e-01\n",
      " -6.0603056e-02 -5.4457593e-03  1.9913859e+00  0.0000000e+00\n",
      "  0.0000000e+00  0.0000000e+00]\n",
      "[1.0507505  3.3508055  0.7727394  0.7677102  0.33589932 0.714564\n",
      " 0.6985328  0.7144175  0.68129355 0.5096354  2.0991254  0.\n",
      " 0.         0.        ]\n"
     ]
    }
   ],
   "source": [
    "print(x_t[0]['features'].mean(axis=(0, 1)))\n",
    "print(x_t[0]['features'].std(axis=(0, 1)))"
   ]
  },
  {
   "cell_type": "code",
   "execution_count": 42,
   "metadata": {},
   "outputs": [
    {
     "name": "stdout",
     "output_type": "stream",
     "text": [
      "INFO:tensorflow:Using config: {'_save_checkpoints_secs': 300, '_keep_checkpoint_max': 10, '_task_type': 'worker', '_cluster_spec': <tensorflow.python.training.server_lib.ClusterSpec object at 0x13c4d9910>, '_keep_checkpoint_every_n_hours': 10000, '_service': None, '_num_ps_replicas': 0, '_tf_random_seed': None, '_device_fn': None, '_num_worker_replicas': 1, '_task_id': 0, '_log_step_count_steps': 100, '_evaluation_master': '', '_eval_distribute': None, '_train_distribute': None, '_session_config': allow_soft_placement: true\n",
      ", '_global_id_in_cluster': 0, '_is_chief': True, '_protocol': None, '_save_checkpoints_steps': None, '_experimental_distribute': None, '_save_summary_steps': 20, '_model_dir': 'gs://world-fishing-827-dev-ttl30d/data-production/classification/timothyhochberg/vessel_char_v20181023A/models/vessel_characterization', '_master': ''}\n"
     ]
    },
    {
     "name": "stderr",
     "output_type": "stream",
     "text": [
      "INFO:tensorflow:Using config: {'_save_checkpoints_secs': 300, '_keep_checkpoint_max': 10, '_task_type': 'worker', '_cluster_spec': <tensorflow.python.training.server_lib.ClusterSpec object at 0x13c4d9910>, '_keep_checkpoint_every_n_hours': 10000, '_service': None, '_num_ps_replicas': 0, '_tf_random_seed': None, '_device_fn': None, '_num_worker_replicas': 1, '_task_id': 0, '_log_step_count_steps': 100, '_evaluation_master': '', '_eval_distribute': None, '_train_distribute': None, '_session_config': allow_soft_placement: true\n",
      ", '_global_id_in_cluster': 0, '_is_chief': True, '_protocol': None, '_save_checkpoints_steps': None, '_experimental_distribute': None, '_save_summary_steps': 20, '_model_dir': 'gs://world-fishing-827-dev-ttl30d/data-production/classification/timothyhochberg/vessel_char_v20181023A/models/vessel_characterization', '_master': ''}\n"
     ]
    }
   ],
   "source": [
    "chkpt_path = 'gs://world-fishing-827-dev-ttl30d/data-production/classification/timothyhochberg/vessel_char_v20181023A/models/vessel_characterization'\n",
    "estimator = mdl.make_estimator(chkpt_path)"
   ]
  },
  {
   "cell_type": "code",
   "execution_count": 72,
   "metadata": {},
   "outputs": [
    {
     "name": "stdout",
     "output_type": "stream",
     "text": [
      "39f2a tug tug  45.902924\n",
      "39f2a tug tug  46.457455\n",
      "5346f fishing dredge_fishing 25.0 17.684563\n",
      "5346f fishing pole_and_line 25.0 18.765368\n",
      "5346f fishing trawlers 25.0 35.168797\n",
      "b593e trawlers trawlers 25.91 17.829622\n",
      "b593e trawlers trawlers 25.91 30.827553\n",
      "b593e trawlers trawlers 25.91 21.137924\n",
      "b593e trawlers trawlers 25.91 20.228977\n",
      "b593e trawlers trawlers 25.91 23.098427\n",
      "b593e trawlers trawlers 25.91 24.204376\n",
      "b593e trawlers trawlers 25.91 26.993475\n",
      "b593e trawlers trawlers 25.91 28.839214\n",
      "b593e trawlers trawlers 25.91 24.420609\n",
      "b593e trawlers trawlers 25.91 20.52519\n",
      "b593e trawlers trawlers 25.91 21.247608\n",
      "b593e trawlers trawlers 25.91 22.633612\n",
      "13c5d patrol_vessel passenger  34.55626\n",
      "13c5d patrol_vessel passenger  37.544384\n",
      "13c5d patrol_vessel passenger  35.64206\n",
      "13c5d patrol_vessel passenger  29.483648\n",
      "13c5d patrol_vessel passenger  32.592167\n",
      "13c5d patrol_vessel patrol_vessel  29.145079\n",
      "13c5d patrol_vessel passenger  18.663548\n",
      "13c5d patrol_vessel patrol_vessel  18.932669\n",
      "13c5d patrol_vessel passenger  19.169907\n",
      "13c5d patrol_vessel patrol_vessel  16.367102\n",
      "5cd74 purse_seines|trawlers other_purse_seines 25.94 33.23331\n",
      "5cd74 purse_seines|trawlers other_purse_seines 25.94 24.583921\n",
      "5cd74 purse_seines|trawlers other_purse_seines 25.94 28.661125\n",
      "5cd74 purse_seines|trawlers other_purse_seines 25.94 26.358706\n",
      "5cd74 purse_seines|trawlers other_purse_seines 25.94 31.479334\n",
      "5cd74 purse_seines|trawlers other_purse_seines 25.94 35.394558\n",
      "5cd74 purse_seines|trawlers other_purse_seines 25.94 47.327168\n",
      "3ff10 cargo tanker  54.345615\n",
      "3ff10 cargo cargo  99.73234\n",
      "3ff10 cargo cargo  89.66815\n",
      "3ff10 cargo cargo  75.208755\n",
      "3ff10 cargo cargo  81.87364\n",
      "3ff10 cargo cargo  71.82779\n",
      "3ff10 cargo cargo  93.0106\n",
      "3ff10 cargo cargo  81.83949\n",
      "3ff10 cargo cargo  123.40771\n",
      "3ff10 cargo cargo  72.97673\n",
      "3ff10 cargo cargo  133.63097\n",
      "3ff10 cargo cargo  71.085785\n",
      "7960a cargo tanker  191.89099\n",
      "7960a cargo cargo  111.495636\n",
      "7960a cargo cargo  131.66364\n",
      "7960a cargo tanker  141.54654\n",
      "7960a cargo cargo  116.6454\n",
      "7960a cargo seismic_vessel  81.80254\n",
      "7960a cargo cargo  158.17653\n",
      "7960a cargo cargo  105.64483\n"
     ]
    }
   ],
   "source": [
    "for result in results:\n",
    "    vid = vessel_metadata.mmsi_map_int2str[int(result['mmsi'])]\n",
    "    cls = metadata.VESSEL_CLASS_DETAILED_NAMES[np.argmax(result['Vessel-class'])]\n",
    "    print(vid[:5], \n",
    "          vessel_metadata.metadata_by_mmsi[vid][0]['label'], cls,\n",
    "          vessel_metadata.metadata_by_mmsi[vid][0]['length'], np.exp(result['Vessel-length']))"
   ]
  },
  {
   "cell_type": "code",
   "execution_count": 86,
   "metadata": {},
   "outputs": [
    {
     "name": "stdout",
     "output_type": "stream",
     "text": [
      "INFO:tensorflow:Using config: {'_save_checkpoints_secs': 300, '_keep_checkpoint_max': 10, '_task_type': 'worker', '_cluster_spec': <tensorflow.python.training.server_lib.ClusterSpec object at 0x1642a7890>, '_keep_checkpoint_every_n_hours': 10000, '_service': None, '_num_ps_replicas': 0, '_tf_random_seed': None, '_device_fn': None, '_num_worker_replicas': 1, '_task_id': 0, '_log_step_count_steps': 100, '_evaluation_master': '', '_eval_distribute': None, '_train_distribute': None, '_session_config': allow_soft_placement: true\n",
      ", '_global_id_in_cluster': 0, '_is_chief': True, '_protocol': None, '_save_checkpoints_steps': None, '_experimental_distribute': None, '_save_summary_steps': 20, '_model_dir': 'gs://world-fishing-827-dev-ttl30d/data-production/classification/timothyhochberg/vessel_char_v20181023A/models/vessel_characterization', '_master': ''}\n"
     ]
    },
    {
     "name": "stderr",
     "output_type": "stream",
     "text": [
      "INFO:tensorflow:Using config: {'_save_checkpoints_secs': 300, '_keep_checkpoint_max': 10, '_task_type': 'worker', '_cluster_spec': <tensorflow.python.training.server_lib.ClusterSpec object at 0x1642a7890>, '_keep_checkpoint_every_n_hours': 10000, '_service': None, '_num_ps_replicas': 0, '_tf_random_seed': None, '_device_fn': None, '_num_worker_replicas': 1, '_task_id': 0, '_log_step_count_steps': 100, '_evaluation_master': '', '_eval_distribute': None, '_train_distribute': None, '_session_config': allow_soft_placement: true\n",
      ", '_global_id_in_cluster': 0, '_is_chief': True, '_protocol': None, '_save_checkpoints_steps': None, '_experimental_distribute': None, '_save_summary_steps': 20, '_model_dir': 'gs://world-fishing-827-dev-ttl30d/data-production/classification/timothyhochberg/vessel_char_v20181023A/models/vessel_characterization', '_master': ''}\n"
     ]
    },
    {
     "name": "stdout",
     "output_type": "stream",
     "text": [
      "INFO:tensorflow:Calling model_fn.\n"
     ]
    },
    {
     "name": "stderr",
     "output_type": "stream",
     "text": [
      "INFO:tensorflow:Calling model_fn.\n"
     ]
    },
    {
     "name": "stdout",
     "output_type": "stream",
     "text": [
      "INFO:tensorflow:Done calling model_fn.\n"
     ]
    },
    {
     "name": "stderr",
     "output_type": "stream",
     "text": [
      "INFO:tensorflow:Done calling model_fn.\n"
     ]
    },
    {
     "name": "stdout",
     "output_type": "stream",
     "text": [
      "INFO:tensorflow:Graph was finalized.\n"
     ]
    },
    {
     "name": "stderr",
     "output_type": "stream",
     "text": [
      "INFO:tensorflow:Graph was finalized.\n"
     ]
    },
    {
     "name": "stdout",
     "output_type": "stream",
     "text": [
      "INFO:tensorflow:Restoring parameters from gs://world-fishing-827-dev-ttl30d/data-production/classification/timothyhochberg/vessel_char_v20181023A/models/vessel_characterization/model.ckpt-52007\n"
     ]
    },
    {
     "name": "stderr",
     "output_type": "stream",
     "text": [
      "INFO:tensorflow:Restoring parameters from gs://world-fishing-827-dev-ttl30d/data-production/classification/timothyhochberg/vessel_char_v20181023A/models/vessel_characterization/model.ckpt-52007\n"
     ]
    },
    {
     "name": "stdout",
     "output_type": "stream",
     "text": [
      "INFO:tensorflow:Running local_init_op.\n"
     ]
    },
    {
     "name": "stderr",
     "output_type": "stream",
     "text": [
      "INFO:tensorflow:Running local_init_op.\n"
     ]
    },
    {
     "name": "stdout",
     "output_type": "stream",
     "text": [
      "INFO:tensorflow:Done running local_init_op.\n"
     ]
    },
    {
     "name": "stderr",
     "output_type": "stream",
     "text": [
      "INFO:tensorflow:Done running local_init_op.\n"
     ]
    }
   ],
   "source": [
    "# So running predictions \"by hand\" works. What about using an Inferer?\n",
    "\n",
    "inferer = run_inference.Inferer(mdl, chkpt_path, root_feature_path)\n",
    "\n",
    "all_results = []\n",
    "for results in inferer.run_inference(vessel_ids, 6, datetime(2015,1,1, tzinfo=pytz.UTC), \n",
    "                                     datetime(2017, 12, 31, tzinfo=pytz.UTC)):\n",
    "    all_results.append(results)"
   ]
  },
  {
   "cell_type": "code",
   "execution_count": 87,
   "metadata": {},
   "outputs": [
    {
     "name": "stdout",
     "output_type": "stream",
     "text": [
      "['engine_power', 'crew_size', 'mmsi', 'Multiclass', 'length', 'end_time', 'tonnage', 'start_time']\n",
      "39f2a tug tug  35.01878387555168\n",
      "39f2a tug tug  25.440610139345715\n",
      "5346f fishing pots_and_traps 25.0 19.091515512773114\n",
      "5346f fishing set_longlines 25.0 22.4011278726617\n",
      "5346f fishing trawlers 25.0 24.637223308784705\n",
      "b593e trawlers trawlers 25.91 22.530040846232584\n",
      "b593e trawlers trawlers 25.91 27.923828980377685\n",
      "b593e trawlers trawlers 25.91 30.172859986653037\n",
      "b593e trawlers trawlers 25.91 21.613178030352763\n",
      "b593e trawlers trawlers 25.91 18.772178521926453\n",
      "b593e trawlers trawlers 25.91 24.444008754735272\n",
      "13c5d patrol_vessel patrol_vessel  20.47387210663639\n",
      "13c5d patrol_vessel passenger  16.525173923991215\n",
      "13c5d patrol_vessel supply_vessel  17.972174510787653\n",
      "13c5d patrol_vessel supply_vessel  17.977299982284517\n",
      "5cd74 purse_seines|trawlers other_purse_seines 25.94 20.78642415754488\n",
      "5cd74 purse_seines|trawlers other_purse_seines 25.94 20.532331490671844\n",
      "5cd74 purse_seines|trawlers other_purse_seines 25.94 16.463138599819317\n",
      "5cd74 purse_seines|trawlers other_purse_seines 25.94 19.465704152664014\n",
      "5cd74 purse_seines|trawlers other_purse_seines 25.94 21.510507287385025\n",
      "3ff10 cargo cargo  67.08866548858435\n",
      "3ff10 cargo cargo  46.66940754297153\n",
      "3ff10 cargo cargo  60.5153858359381\n",
      "3ff10 cargo cargo  47.648348520708815\n",
      "3ff10 cargo cargo  71.23997827329379\n",
      "3ff10 cargo cargo  52.49651388155308\n",
      "7960a cargo cargo  113.27525348127894\n",
      "7960a cargo cargo  112.78075889877319\n",
      "7960a cargo cargo  85.86054898979617\n",
      "7960a cargo cargo  78.32251232316456\n",
      "7960a cargo cargo  124.25746544335372\n",
      "7960a cargo cargo  81.53823287676416\n"
     ]
    }
   ],
   "source": [
    "print(all_results[0].keys())\n",
    "for result in all_results:\n",
    "    vid = vessel_metadata.mmsi_map_int2str[int(result['mmsi'])]\n",
    "    cls = result['Multiclass']['max_label']\n",
    "    print(vid[:5], \n",
    "          vessel_metadata.metadata_by_mmsi[vid][0]['label'], cls,\n",
    "          vessel_metadata.metadata_by_mmsi[vid][0]['length'], result['length']['value'])"
   ]
  },
  {
   "cell_type": "code",
   "execution_count": 9,
   "metadata": {
    "collapsed": true
   },
   "outputs": [],
   "source": [
    "input_fn = mdl.make_test_input_fn(root_feature_path, 32, prefetch=1)\n",
    "dataset = input_fn()\n",
    "iter = dataset.make_one_shot_iterator()\n",
    "el = iter.get_next()\n",
    "with tf.Session() as sess:\n",
    "    el = sess.run(el)"
   ]
  },
  {
   "cell_type": "code",
   "execution_count": 10,
   "metadata": {
    "collapsed": true
   },
   "outputs": [],
   "source": [
    "from classification.models.fishing_detection import Model\n",
    "real_mdl = Model(14, vessel_metadata, 'minimal')"
   ]
  },
  {
   "cell_type": "code",
   "execution_count": 11,
   "metadata": {},
   "outputs": [
    {
     "data": {
      "text/plain": [
       "((64, 1024, 14), (64, 1024))"
      ]
     },
     "execution_count": 11,
     "metadata": {},
     "output_type": "execute_result"
    }
   ],
   "source": [
    "dataset = real_mdl.make_test_input_fn(root_feature_path, 4)()\n",
    "iter = dataset.make_one_shot_iterator()\n",
    "el = iter.get_next()\n",
    "with tf.Session() as sess:\n",
    "    el = sess.run(el)\n",
    "el[0][0].shape, el[1].shape"
   ]
  },
  {
   "cell_type": "code",
   "execution_count": 12,
   "metadata": {},
   "outputs": [
    {
     "name": "stderr",
     "output_type": "stream",
     "text": [
      "//anaconda/envs/ml2/lib/python2.7/site-packages/IPython/core/interactiveshell.py:2717: DtypeWarning: Columns (12,18,19,20,22,23,24,26,27,29,31,33,34,35,36,37,38,39,40,41,42,43) have mixed types. Specify dtype option on import or set low_memory=False.\n",
      "  interactivity=interactivity, compiler=compiler, result=result)\n"
     ]
    },
    {
     "data": {
      "text/html": [
       "<div>\n",
       "<style>\n",
       "    .dataframe thead tr:only-child th {\n",
       "        text-align: right;\n",
       "    }\n",
       "\n",
       "    .dataframe thead th {\n",
       "        text-align: left;\n",
       "    }\n",
       "\n",
       "    .dataframe tbody tr th {\n",
       "        vertical-align: top;\n",
       "    }\n",
       "</style>\n",
       "<table border=\"1\" class=\"dataframe\">\n",
       "  <thead>\n",
       "    <tr style=\"text-align: right;\">\n",
       "      <th></th>\n",
       "      <th>uvi</th>\n",
       "      <th>mmsi</th>\n",
       "      <th>shipname_matched</th>\n",
       "      <th>callsign_matched</th>\n",
       "      <th>flag</th>\n",
       "      <th>imo_matched</th>\n",
       "      <th>length</th>\n",
       "      <th>tonnage</th>\n",
       "      <th>engine_power</th>\n",
       "      <th>geartype_source</th>\n",
       "      <th>...</th>\n",
       "      <th>rev</th>\n",
       "      <th>reclsfy</th>\n",
       "      <th>chnsprfmo</th>\n",
       "      <th>carriers</th>\n",
       "      <th>chnfsh</th>\n",
       "      <th>isfishingvessel</th>\n",
       "      <th>issinglematch</th>\n",
       "      <th>label</th>\n",
       "      <th>split</th>\n",
       "      <th>_48</th>\n",
       "    </tr>\n",
       "  </thead>\n",
       "  <tbody>\n",
       "    <tr>\n",
       "      <th>0</th>\n",
       "      <td>173873</td>\n",
       "      <td>2c399e624-4e75-5354-41f6-412dbb0bf7cf</td>\n",
       "      <td>LADYAMANDA</td>\n",
       "      <td>LW6379</td>\n",
       "      <td>ARG</td>\n",
       "      <td>NaN</td>\n",
       "      <td>NaN</td>\n",
       "      <td>9.0</td>\n",
       "      <td>NaN</td>\n",
       "      <td>NaN</td>\n",
       "      <td>...</td>\n",
       "      <td>NaN</td>\n",
       "      <td>NaN</td>\n",
       "      <td>NaN</td>\n",
       "      <td>NaN</td>\n",
       "      <td>NaN</td>\n",
       "      <td>NaN</td>\n",
       "      <td>True</td>\n",
       "      <td>unknown</td>\n",
       "      <td>Training</td>\n",
       "      <td>unknown</td>\n",
       "    </tr>\n",
       "    <tr>\n",
       "      <th>1</th>\n",
       "      <td>173873</td>\n",
       "      <td>f31c2de1d-d6e0-e169-7173-bbdf512434b3</td>\n",
       "      <td>LADYAMANDA</td>\n",
       "      <td>LW6379</td>\n",
       "      <td>ARG</td>\n",
       "      <td>NaN</td>\n",
       "      <td>NaN</td>\n",
       "      <td>9.0</td>\n",
       "      <td>NaN</td>\n",
       "      <td>NaN</td>\n",
       "      <td>...</td>\n",
       "      <td>NaN</td>\n",
       "      <td>NaN</td>\n",
       "      <td>NaN</td>\n",
       "      <td>NaN</td>\n",
       "      <td>NaN</td>\n",
       "      <td>NaN</td>\n",
       "      <td>True</td>\n",
       "      <td>unknown</td>\n",
       "      <td>Training</td>\n",
       "      <td>unknown</td>\n",
       "    </tr>\n",
       "    <tr>\n",
       "      <th>2</th>\n",
       "      <td>173865</td>\n",
       "      <td>1ed866964-4584-e6c4-5fe3-289b2f281fef</td>\n",
       "      <td>ELENADELTA</td>\n",
       "      <td>LW9438</td>\n",
       "      <td>ARG</td>\n",
       "      <td>NaN</td>\n",
       "      <td>NaN</td>\n",
       "      <td>18.0</td>\n",
       "      <td>NaN</td>\n",
       "      <td>NaN</td>\n",
       "      <td>...</td>\n",
       "      <td>NaN</td>\n",
       "      <td>NaN</td>\n",
       "      <td>NaN</td>\n",
       "      <td>NaN</td>\n",
       "      <td>NaN</td>\n",
       "      <td>NaN</td>\n",
       "      <td>True</td>\n",
       "      <td>unknown</td>\n",
       "      <td>Training</td>\n",
       "      <td>unknown</td>\n",
       "    </tr>\n",
       "    <tr>\n",
       "      <th>3</th>\n",
       "      <td>173865</td>\n",
       "      <td>f4f5cc7d8-84cf-823c-6e42-18cc45fe5af4</td>\n",
       "      <td>ELENADELTA</td>\n",
       "      <td>LW9438</td>\n",
       "      <td>ARG</td>\n",
       "      <td>NaN</td>\n",
       "      <td>NaN</td>\n",
       "      <td>18.0</td>\n",
       "      <td>NaN</td>\n",
       "      <td>NaN</td>\n",
       "      <td>...</td>\n",
       "      <td>NaN</td>\n",
       "      <td>NaN</td>\n",
       "      <td>NaN</td>\n",
       "      <td>NaN</td>\n",
       "      <td>NaN</td>\n",
       "      <td>NaN</td>\n",
       "      <td>True</td>\n",
       "      <td>unknown</td>\n",
       "      <td>Training</td>\n",
       "      <td>unknown</td>\n",
       "    </tr>\n",
       "    <tr>\n",
       "      <th>4</th>\n",
       "      <td>173722</td>\n",
       "      <td>731b77960-02d1-41bb-2651-46021d76cfb5</td>\n",
       "      <td>CODEPECA4</td>\n",
       "      <td>LW8189</td>\n",
       "      <td>ARG</td>\n",
       "      <td>NaN</td>\n",
       "      <td>NaN</td>\n",
       "      <td>339.0</td>\n",
       "      <td>NaN</td>\n",
       "      <td>NaN</td>\n",
       "      <td>...</td>\n",
       "      <td>NaN</td>\n",
       "      <td>NaN</td>\n",
       "      <td>NaN</td>\n",
       "      <td>NaN</td>\n",
       "      <td>NaN</td>\n",
       "      <td>NaN</td>\n",
       "      <td>True</td>\n",
       "      <td>unknown</td>\n",
       "      <td>Training</td>\n",
       "      <td>unknown</td>\n",
       "    </tr>\n",
       "  </tbody>\n",
       "</table>\n",
       "<p>5 rows × 48 columns</p>\n",
       "</div>"
      ],
      "text/plain": [
       "      uvi                                   mmsi shipname_matched  \\\n",
       "0  173873  2c399e624-4e75-5354-41f6-412dbb0bf7cf       LADYAMANDA   \n",
       "1  173873  f31c2de1d-d6e0-e169-7173-bbdf512434b3       LADYAMANDA   \n",
       "2  173865  1ed866964-4584-e6c4-5fe3-289b2f281fef       ELENADELTA   \n",
       "3  173865  f4f5cc7d8-84cf-823c-6e42-18cc45fe5af4       ELENADELTA   \n",
       "4  173722  731b77960-02d1-41bb-2651-46021d76cfb5        CODEPECA4   \n",
       "\n",
       "  callsign_matched flag  imo_matched  length  tonnage  engine_power  \\\n",
       "0           LW6379  ARG          NaN     NaN      9.0           NaN   \n",
       "1           LW6379  ARG          NaN     NaN      9.0           NaN   \n",
       "2           LW9438  ARG          NaN     NaN     18.0           NaN   \n",
       "3           LW9438  ARG          NaN     NaN     18.0           NaN   \n",
       "4           LW8189  ARG          NaN     NaN    339.0           NaN   \n",
       "\n",
       "  geartype_source   ...     rev  reclsfy chnsprfmo carriers chnfsh  \\\n",
       "0             NaN   ...     NaN      NaN       NaN      NaN    NaN   \n",
       "1             NaN   ...     NaN      NaN       NaN      NaN    NaN   \n",
       "2             NaN   ...     NaN      NaN       NaN      NaN    NaN   \n",
       "3             NaN   ...     NaN      NaN       NaN      NaN    NaN   \n",
       "4             NaN   ...     NaN      NaN       NaN      NaN    NaN   \n",
       "\n",
       "   isfishingvessel  issinglematch    label     split      _48  \n",
       "0              NaN           True  unknown  Training  unknown  \n",
       "1              NaN           True  unknown  Training  unknown  \n",
       "2              NaN           True  unknown  Training  unknown  \n",
       "3              NaN           True  unknown  Training  unknown  \n",
       "4              NaN           True  unknown  Training  unknown  \n",
       "\n",
       "[5 rows x 48 columns]"
      ]
     },
     "execution_count": 12,
     "metadata": {},
     "output_type": "execute_result"
    }
   ],
   "source": [
    "import pandas as pd\n",
    "train_df = pd.read_csv('classification/data/training_classes_vessel_id.csv')\n",
    "train_df.head()"
   ]
  },
  {
   "cell_type": "code",
   "execution_count": 13,
   "metadata": {},
   "outputs": [
    {
     "ename": "IOError",
     "evalue": "[Errno 2] No such file or directory: 'mmsis.txt'",
     "output_type": "error",
     "traceback": [
      "\u001b[0;31m---------------------------------------------------------------------------\u001b[0m",
      "\u001b[0;31mIOError\u001b[0m                                   Traceback (most recent call last)",
      "\u001b[0;32m<ipython-input-13-b2786ac8b96e>\u001b[0m in \u001b[0;36m<module>\u001b[0;34m()\u001b[0m\n\u001b[0;32m----> 1\u001b[0;31m \u001b[0mmmsis\u001b[0m \u001b[0;34m=\u001b[0m \u001b[0mopen\u001b[0m\u001b[0;34m(\u001b[0m\u001b[0;34m'mmsis.txt'\u001b[0m\u001b[0;34m)\u001b[0m\u001b[0;34m.\u001b[0m\u001b[0mread\u001b[0m\u001b[0;34m(\u001b[0m\u001b[0;34m)\u001b[0m\u001b[0;34m.\u001b[0m\u001b[0mstrip\u001b[0m\u001b[0;34m(\u001b[0m\u001b[0;34m)\u001b[0m\u001b[0;34m.\u001b[0m\u001b[0msplit\u001b[0m\u001b[0;34m(\u001b[0m\u001b[0;34m)\u001b[0m\u001b[0;34m\u001b[0m\u001b[0m\n\u001b[0m",
      "\u001b[0;31mIOError\u001b[0m: [Errno 2] No such file or directory: 'mmsis.txt'"
     ]
    }
   ],
   "source": [
    "mmsis = open('mmsis.txt').read().strip().split()"
   ]
  },
  {
   "cell_type": "code",
   "execution_count": null,
   "metadata": {
    "collapsed": true
   },
   "outputs": [],
   "source": [
    "in_both = set(mmsis) & set(train_df.mmsi)\n",
    "len(in_both)"
   ]
  },
  {
   "cell_type": "code",
   "execution_count": null,
   "metadata": {
    "collapsed": true
   },
   "outputs": [],
   "source": [
    "sorted(mmsis)[:10]"
   ]
  },
  {
   "cell_type": "code",
   "execution_count": null,
   "metadata": {
    "collapsed": true
   },
   "outputs": [],
   "source": [
    "sorted(set(train_df.mmsi))[:10]"
   ]
  },
  {
   "cell_type": "code",
   "execution_count": null,
   "metadata": {
    "collapsed": true
   },
   "outputs": [],
   "source": [
    "mapper = pd.read_csv('train/ssvid_to_vessel_id.csv')"
   ]
  },
  {
   "cell_type": "code",
   "execution_count": null,
   "metadata": {
    "collapsed": true
   },
   "outputs": [],
   "source": [
    "sorted(set(mapper.vessel_id))[:10]"
   ]
  },
  {
   "cell_type": "code",
   "execution_count": null,
   "metadata": {
    "collapsed": true
   },
   "outputs": [],
   "source": [
    "def fakerator():\n",
    "    while True:\n",
    "        for i in range(3):\n",
    "            yield i\n",
    "        raise StopIteration\n",
    "        \n",
    "f = fakerator()\n",
    "\n",
    "print('a')\n",
    "for x in f:\n",
    "    print x\n",
    "    \n",
    "print('b')\n",
    "for x in f:\n",
    "    print x"
   ]
  },
  {
   "cell_type": "code",
   "execution_count": null,
   "metadata": {},
   "outputs": [],
   "source": [
    "2 + 2"
   ]
  }
 ],
 "metadata": {
  "kernelspec": {
   "display_name": "Python 2",
   "language": "python",
   "name": "python2"
  },
  "language_info": {
   "codemirror_mode": {
    "name": "ipython",
    "version": 2
   },
   "file_extension": ".py",
   "mimetype": "text/x-python",
   "name": "python",
   "nbconvert_exporter": "python",
   "pygments_lexer": "ipython2",
   "version": "2.7.13"
  }
 },
 "nbformat": 4,
 "nbformat_minor": 2
}
